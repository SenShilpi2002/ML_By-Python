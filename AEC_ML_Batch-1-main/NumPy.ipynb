{
 "cells": [
  {
   "cell_type": "markdown",
   "id": "83d5e3e2-b81c-40f4-8732-00d115137514",
   "metadata": {},
   "source": [
    "> NumPy is an extension to the Python programming language, adding support for large, multi-dimensional (mostly numerical) arrays and matrices, along with a large library of high-level mathematical functions to operate on these arrays."
   ]
  },
  {
   "cell_type": "code",
   "execution_count": 4,
   "id": "9c411f75-c16f-4781-91c2-44f0eab06ef7",
   "metadata": {},
   "outputs": [],
   "source": [
    "# importing required modules\n",
    "import numpy as np"
   ]
  },
  {
   "cell_type": "markdown",
   "id": "77d04119-99a0-4c52-acf6-35b60c8e42c0",
   "metadata": {},
   "source": [
    "### Create arrays"
   ]
  },
  {
   "cell_type": "code",
   "execution_count": 5,
   "id": "909c7e98-4a2d-48d7-9648-f6945653de3a",
   "metadata": {},
   "outputs": [
    {
     "name": "stdout",
     "output_type": "stream",
     "text": [
      "[11, 22, 33, 44, 55] 5 <class 'list'> 2272814902464\n",
      "[11 22 33 44 55] 5 <class 'numpy.ndarray'> 2272814835792 int32\n"
     ]
    }
   ],
   "source": [
    "# creating arrays from a list\n",
    "data1 = [11, 22, 33, 44, 55]\n",
    "arr1 = np.array(data1)\n",
    "print (data1, len(data1), type(data1), id(data1))\n",
    "print (arr1, len(arr1), type(arr1), id(arr1), arr1.dtype)"
   ]
  },
  {
   "cell_type": "code",
   "execution_count": 20,
   "id": "7281b680-7a77-42a7-8efb-cf6bef05bf33",
   "metadata": {},
   "outputs": [
    {
     "name": "stdout",
     "output_type": "stream",
     "text": [
      "[11, 22.0, 33, 44, 55] 5 <class 'list'> 2677659831808\n",
      "[11. 22. 33. 44. 55.] 5 <class 'numpy.ndarray'> 2677656663024 float64\n"
     ]
    }
   ],
   "source": [
    "# creating arrays from a list\n",
    "data1 = [11, 22.0, 33, 44, 55]\n",
    "arr1 = np.array(data1)\n",
    "print (data1, len(data1), type(data1), id(data1))\n",
    "print (arr1, len(arr1), type(arr1), id(arr1), arr1.dtype)"
   ]
  },
  {
   "cell_type": "code",
   "execution_count": 21,
   "id": "0f4622f2-5534-406e-95af-4d39474ddac1",
   "metadata": {},
   "outputs": [
    {
     "name": "stdout",
     "output_type": "stream",
     "text": [
      "[11, '22', 33, 44, 55] 5 <class 'list'> 2677659829120\n",
      "['11' '22' '33' '44' '55'] 5 <class 'numpy.ndarray'> 2677657097200 <U11\n"
     ]
    }
   ],
   "source": [
    "# creating arrays from a list\n",
    "data1 = [11, '22', 33, 44, 55]\n",
    "arr1 = np.array(data1)\n",
    "print (data1, len(data1), type(data1), id(data1))\n",
    "print (arr1, len(arr1), type(arr1), id(arr1), arr1.dtype)"
   ]
  },
  {
   "cell_type": "code",
   "execution_count": 22,
   "id": "86654632-b869-4a41-a5a2-07e91ce93bf1",
   "metadata": {},
   "outputs": [
    {
     "name": "stdout",
     "output_type": "stream",
     "text": [
      "[11, 22, 33, True, 44, False, 55] 7 <class 'list'> 2677656176128\n",
      "[11 22 33  1 44  0 55] 7 <class 'numpy.ndarray'> 2677657097392 int32\n"
     ]
    }
   ],
   "source": [
    "# creating arrays from a list\n",
    "data1 = [11, 22, 33, True,44, False, 55]\n",
    "arr1 = np.array(data1)\n",
    "print (data1, len(data1), type(data1), id(data1))\n",
    "print (arr1, len(arr1), type(arr1), id(arr1), arr1.dtype)"
   ]
  },
  {
   "cell_type": "code",
   "execution_count": 12,
   "id": "d91563a2-d6e2-42f5-a8be-3f1a70edb024",
   "metadata": {},
   "outputs": [
    {
     "name": "stdout",
     "output_type": "stream",
     "text": [
      "[11, '22', 33.5, True, 44, False, 55] 7 <class 'list'> 2677656469696\n",
      "['11' '22' '33.5' 'True' '44' 'False' '55'] 7 <class 'numpy.ndarray'> 2677656607024\n"
     ]
    }
   ],
   "source": [
    "# creating arrays from a list\n",
    "data1 = [11, '22', 33.5, True, 44, False, 55]\n",
    "arr1 = np.array(data1)\n",
    "print (data1, len(data1), type(data1), id(data1))\n",
    "print (arr1, len(arr1), type(arr1), id(arr1))"
   ]
  },
  {
   "cell_type": "code",
   "execution_count": 3,
   "id": "89bf0b61-0a85-4421-b5a7-eedfeca9d473",
   "metadata": {},
   "outputs": [
    {
     "name": "stdout",
     "output_type": "stream",
     "text": [
      "100 <class 'int'> 140709502399376\n",
      "100 <class 'int'> 140709502399376\n",
      "100 <class 'int'> 140709502399376\n"
     ]
    }
   ],
   "source": [
    "var1 = 100\n",
    "var2 = var1\n",
    "var3 = 100\n",
    "print (var1, type(var1), id(var1))\n",
    "print (var2, type(var2), id(var2))\n",
    "print (var3, type(var3), id(var3))"
   ]
  },
  {
   "cell_type": "code",
   "execution_count": 6,
   "id": "ab4c2a29-623a-405c-b024-dd9d1e0f897b",
   "metadata": {},
   "outputs": [
    {
     "name": "stdout",
     "output_type": "stream",
     "text": [
      "257 <class 'int'> 2677656760208\n",
      "257 <class 'int'> 2677656760208\n",
      "257 <class 'int'> 2677656759824\n"
     ]
    }
   ],
   "source": [
    "var1 = 257\n",
    "var2 = var1\n",
    "var3 = 257\n",
    "print (var1, type(var1), id(var1))\n",
    "print (var2, type(var2), id(var2))\n",
    "print (var3, type(var3), id(var3))"
   ]
  },
  {
   "cell_type": "code",
   "execution_count": 8,
   "id": "2f3aaa7c-22cf-4748-b690-0d060f0a4614",
   "metadata": {},
   "outputs": [
    {
     "name": "stdout",
     "output_type": "stream",
     "text": [
      "-6 <class 'int'> 2677656580464\n",
      "-6 <class 'int'> 2677656580464\n",
      "-6 <class 'int'> 2677656580432\n"
     ]
    }
   ],
   "source": [
    "# So if the intialization value is ranging from -5 to 256 then ids against the\n",
    "# variables will remain the same.\n",
    "var1 = -6\n",
    "var2 = var1\n",
    "var3 = -6\n",
    "print (var1, type(var1), id(var1))\n",
    "print (var2, type(var2), id(var2))\n",
    "print (var3, type(var3), id(var3))"
   ]
  },
  {
   "cell_type": "code",
   "execution_count": 18,
   "id": "4db7f9cf-6485-4de4-bc00-3232ba54425d",
   "metadata": {},
   "outputs": [
    {
     "name": "stdout",
     "output_type": "stream",
     "text": [
      "range(1, 10, 2) <class 'range'> 5\n",
      "[1, 3, 5, 7, 9]\n",
      "[1 3 5 7 9] <class 'numpy.ndarray'> 5\n"
     ]
    }
   ],
   "source": [
    "# dealing with range and arange\n",
    "var1 = range(1, 10, 2)\n",
    "print (var1, type(var1), len(var1))\n",
    "print (list(var1))\n",
    "var1 = np.arange(1, 10, 2)\n",
    "print (var1, type(var1), len(var1))"
   ]
  },
  {
   "cell_type": "code",
   "execution_count": 26,
   "id": "fc3efd82-ece6-4128-9dc4-9ef01505f82f",
   "metadata": {},
   "outputs": [
    {
     "name": "stdout",
     "output_type": "stream",
     "text": [
      "int32\n",
      "1\n",
      "(7,)\n",
      "7\n",
      "7\n"
     ]
    }
   ],
   "source": [
    "# examining arrays\n",
    "print (arr1.dtype)\n",
    "print (arr1.ndim)    # returns number of dimensions\n",
    "print (arr1.shape)   # returns singleton notation of a tuple\n",
    "print (arr1.size)    # returns count of data items\n",
    "print (len(arr1))"
   ]
  },
  {
   "cell_type": "code",
   "execution_count": 27,
   "id": "9ae6a28a-3d8e-4c41-bbff-33f93c3a900d",
   "metadata": {},
   "outputs": [
    {
     "name": "stdout",
     "output_type": "stream",
     "text": [
      "7 <class 'int'>\n",
      "(7,) <class 'tuple'>\n"
     ]
    }
   ],
   "source": [
    "var1 = (7)\n",
    "print (var1, type(var1))\n",
    "var1 = (7,)\n",
    "print (var1, type(var1))"
   ]
  },
  {
   "cell_type": "code",
   "execution_count": 30,
   "id": "4736a9ed-a493-45dc-b1e6-f511f0ef0a9f",
   "metadata": {},
   "outputs": [
    {
     "name": "stdout",
     "output_type": "stream",
     "text": [
      "[[100 200 300 400 900]\n",
      " [500 600 700 800 950]] <class 'numpy.ndarray'>\n",
      "int32\n",
      "2\n",
      "(2, 5)\n",
      "10\n",
      "2\n"
     ]
    }
   ],
   "source": [
    "arr2 = np.array([[100, 200, 300, 400, 900], [500, 600, 700, 800, 950]])\n",
    "print (arr2, type(arr2))\n",
    "print (arr2.dtype)\n",
    "print (arr2.ndim)\n",
    "print (arr2.shape)\n",
    "print (arr2.size)\n",
    "print (len(arr2))"
   ]
  },
  {
   "cell_type": "code",
   "execution_count": 38,
   "id": "aba0532e-aa99-4d17-bfad-8378b0d8bd7a",
   "metadata": {},
   "outputs": [
    {
     "name": "stdout",
     "output_type": "stream",
     "text": [
      "[0. 0. 0. 0. 0. 0. 0. 0. 0. 0.]\n",
      "[0 0 0 0 0 0 0 0 0 0]\n",
      "[0 0 0 0 0 0 0 0 0 0]\n",
      "[[0. 0.]\n",
      " [0. 0.]\n",
      " [0. 0.]\n",
      " [0. 0.]]\n",
      "[[0. 0.]\n",
      " [0. 0.]\n",
      " [0. 0.]\n",
      " [0. 0.]]\n"
     ]
    }
   ],
   "source": [
    "# Creating special arrays\n",
    "print (np.zeros(10))\n",
    "print (np.zeros(10).astype(int))\n",
    "print (np.zeros(10, int))\n",
    "print (np.zeros([4, 2]))\n",
    "print (np.zeros(8).reshape(4, 2))"
   ]
  },
  {
   "cell_type": "code",
   "execution_count": 44,
   "id": "083707ef-fb52-46f6-8504-5bda813b8dbf",
   "metadata": {},
   "outputs": [
    {
     "name": "stdout",
     "output_type": "stream",
     "text": [
      "[[0 0 0 0 0]\n",
      " [0 0 0 0 0]]\n",
      "[[0 0 0 0 0]\n",
      " [0 0 0 0 0]]\n",
      "[[0 0 0 0 0]\n",
      " [0 0 0 0 0]]\n",
      "[[0 0 0 0 0]\n",
      " [0 0 0 0 0]]\n"
     ]
    }
   ],
   "source": [
    "print (np.zeros(10).astype(int).reshape(2, 5))\n",
    "print (np.zeros(10).reshape(2, 5).astype(int))\n",
    "print (np.zeros((2, 5)).astype(int))\n",
    "print (np.zeros([2, 5]).astype(int))"
   ]
  },
  {
   "cell_type": "code",
   "execution_count": 6,
   "id": "58b1392d-d769-4a12-b319-c1c0fff8235f",
   "metadata": {},
   "outputs": [
    {
     "name": "stdout",
     "output_type": "stream",
     "text": [
      "[[1 1 1 1 1]\n",
      " [1 1 1 1 1]]\n",
      "[[1. 1. 1. 1. 1.]\n",
      " [1. 1. 1. 1. 1.]]\n",
      "[[1 1 1 1 1]\n",
      " [1 1 1 1 1]]\n",
      "[[1 1 1 1 1]\n",
      " [1 1 1 1 1]]\n",
      "[[1 1 1 1 1]\n",
      " [1 1 1 1 1]]\n"
     ]
    }
   ],
   "source": [
    "print (np.ones(10).astype(int).reshape(2, 5))\n",
    "print (np.ones(10).reshape(2, 5))\n",
    "print (np.ones(10).reshape(2, 5).astype(int))\n",
    "print (np.ones((2, 5)).astype(int))\n",
    "print (np.ones([2, 5]).astype(int))"
   ]
  },
  {
   "cell_type": "code",
   "execution_count": 10,
   "id": "efaf5460-edeb-447a-bc7d-eac58236622a",
   "metadata": {},
   "outputs": [
    {
     "name": "stdout",
     "output_type": "stream",
     "text": [
      "[0.   0.25 0.5  0.75 1.  ]\n",
      "[ 1.  2.  3.  4.  5.  6.  7.  8.  9. 10.]\n",
      "[ 1  2  3  4  5  6  7  8  9 10]\n"
     ]
    }
   ],
   "source": [
    "print (np.linspace(0, 1, 5))\n",
    "print (np.linspace(1, 10, 10))\n",
    "print (np.linspace(1, 10, 10).astype(int))"
   ]
  },
  {
   "cell_type": "code",
   "execution_count": 56,
   "id": "1b72d7ea-006a-4605-ba2e-4e171971f79c",
   "metadata": {},
   "outputs": [
    {
     "name": "stdout",
     "output_type": "stream",
     "text": [
      "[   1.   10.  100. 1000.]\n",
      "[1. 2. 4. 8.]\n"
     ]
    }
   ],
   "source": [
    "print (np.logspace(0, 3, 4))\n",
    "print (np.logspace(0, 3, 4, base = 2))"
   ]
  },
  {
   "cell_type": "code",
   "execution_count": 57,
   "id": "37a7ae45-6550-497c-aea6-7fde2183201b",
   "metadata": {},
   "outputs": [
    {
     "name": "stdout",
     "output_type": "stream",
     "text": [
      "Help on function logspace in module numpy:\n",
      "\n",
      "logspace(start, stop, num=50, endpoint=True, base=10.0, dtype=None, axis=0)\n",
      "    Return numbers spaced evenly on a log scale.\n",
      "    \n",
      "    In linear space, the sequence starts at ``base ** start``\n",
      "    (`base` to the power of `start`) and ends with ``base ** stop``\n",
      "    (see `endpoint` below).\n",
      "    \n",
      "    .. versionchanged:: 1.16.0\n",
      "        Non-scalar `start` and `stop` are now supported.\n",
      "    \n",
      "    Parameters\n",
      "    ----------\n",
      "    start : array_like\n",
      "        ``base ** start`` is the starting value of the sequence.\n",
      "    stop : array_like\n",
      "        ``base ** stop`` is the final value of the sequence, unless `endpoint`\n",
      "        is False.  In that case, ``num + 1`` values are spaced over the\n",
      "        interval in log-space, of which all but the last (a sequence of\n",
      "        length `num`) are returned.\n",
      "    num : integer, optional\n",
      "        Number of samples to generate.  Default is 50.\n",
      "    endpoint : boolean, optional\n",
      "        If true, `stop` is the last sample. Otherwise, it is not included.\n",
      "        Default is True.\n",
      "    base : array_like, optional\n",
      "        The base of the log space. The step size between the elements in\n",
      "        ``ln(samples) / ln(base)`` (or ``log_base(samples)``) is uniform.\n",
      "        Default is 10.0.\n",
      "    dtype : dtype\n",
      "        The type of the output array.  If `dtype` is not given, the data type\n",
      "        is inferred from `start` and `stop`. The inferred type will never be\n",
      "        an integer; `float` is chosen even if the arguments would produce an\n",
      "        array of integers.\n",
      "    axis : int, optional\n",
      "        The axis in the result to store the samples.  Relevant only if start\n",
      "        or stop are array-like.  By default (0), the samples will be along a\n",
      "        new axis inserted at the beginning. Use -1 to get an axis at the end.\n",
      "    \n",
      "        .. versionadded:: 1.16.0\n",
      "    \n",
      "    \n",
      "    Returns\n",
      "    -------\n",
      "    samples : ndarray\n",
      "        `num` samples, equally spaced on a log scale.\n",
      "    \n",
      "    See Also\n",
      "    --------\n",
      "    arange : Similar to linspace, with the step size specified instead of the\n",
      "             number of samples. Note that, when used with a float endpoint, the\n",
      "             endpoint may or may not be included.\n",
      "    linspace : Similar to logspace, but with the samples uniformly distributed\n",
      "               in linear space, instead of log space.\n",
      "    geomspace : Similar to logspace, but with endpoints specified directly.\n",
      "    \n",
      "    Notes\n",
      "    -----\n",
      "    Logspace is equivalent to the code\n",
      "    \n",
      "    >>> y = np.linspace(start, stop, num=num, endpoint=endpoint)\n",
      "    ... # doctest: +SKIP\n",
      "    >>> power(base, y).astype(dtype)\n",
      "    ... # doctest: +SKIP\n",
      "    \n",
      "    Examples\n",
      "    --------\n",
      "    >>> np.logspace(2.0, 3.0, num=4)\n",
      "    array([ 100.        ,  215.443469  ,  464.15888336, 1000.        ])\n",
      "    >>> np.logspace(2.0, 3.0, num=4, endpoint=False)\n",
      "    array([100.        ,  177.827941  ,  316.22776602,  562.34132519])\n",
      "    >>> np.logspace(2.0, 3.0, num=4, base=2.0)\n",
      "    array([4.        ,  5.0396842 ,  6.34960421,  8.        ])\n",
      "    \n",
      "    Graphical illustration:\n",
      "    \n",
      "    >>> import matplotlib.pyplot as plt\n",
      "    >>> N = 10\n",
      "    >>> x1 = np.logspace(0.1, 1, N, endpoint=True)\n",
      "    >>> x2 = np.logspace(0.1, 1, N, endpoint=False)\n",
      "    >>> y = np.zeros(N)\n",
      "    >>> plt.plot(x1, y, 'o')\n",
      "    [<matplotlib.lines.Line2D object at 0x...>]\n",
      "    >>> plt.plot(x2, y + 0.5, 'o')\n",
      "    [<matplotlib.lines.Line2D object at 0x...>]\n",
      "    >>> plt.ylim([-0.5, 1])\n",
      "    (-0.5, 1)\n",
      "    >>> plt.show()\n",
      "\n"
     ]
    }
   ],
   "source": [
    "help(np.logspace)"
   ]
  },
  {
   "cell_type": "code",
   "execution_count": 12,
   "id": "190237a9-2a3f-4cd9-baf6-2d6c87462037",
   "metadata": {
    "scrolled": true
   },
   "outputs": [
    {
     "name": "stdout",
     "output_type": "stream",
     "text": [
      "[11 22 33 44 55 66 77 88] 8 <class 'numpy.ndarray'>\n",
      "55 77 55 77\n",
      "[55 66 77 88] [55 66 77 88] [22 33 44 55 66] [22 33 44 55 66]\n",
      "[11 33 55 77] [22 44 66 88] [88 77 66 55 44 33 22 11]\n"
     ]
    }
   ],
   "source": [
    "# indexing and Slicing\n",
    "# Left to Right:  0   1   2   3   4   5   6   7\n",
    "arr1 = np.array([11, 22, 33, 44, 55, 66, 77, 88])\n",
    "# Right to Left: -8  -7  -6  -5  -4  -3  -2  -1\n",
    "print (arr1, len(arr1), type(arr1))\n",
    "print (arr1[4], arr1[6], arr1[-4], arr1[-2])\n",
    "print (arr1[4:], arr1[-4:], arr1[1:6], arr1[-7:-2])\n",
    "print (arr1[::2], arr1[1::2], arr1[::-1])"
   ]
  },
  {
   "cell_type": "code",
   "execution_count": 13,
   "id": "d82349d7-82e5-4ac1-90e3-144d5683061d",
   "metadata": {},
   "outputs": [
    {
     "name": "stdout",
     "output_type": "stream",
     "text": [
      "[33 44 55 66] [] [] [77]\n"
     ]
    }
   ],
   "source": [
    "print (arr1[2:6], arr1[-2:-6], arr1[2:-6], arr1[-2:7])"
   ]
  },
  {
   "cell_type": "code",
   "execution_count": 19,
   "id": "a09774e8-8ba1-4047-abbd-8d82e1e2f725",
   "metadata": {},
   "outputs": [
    {
     "name": "stdout",
     "output_type": "stream",
     "text": [
      "[33 44 55 66] [11 22 33] [44 55 66 77] [66 77]\n"
     ]
    }
   ],
   "source": [
    "print (arr1[2:6], arr1[-8:-5], arr1[3:-1], arr1[-3:7])"
   ]
  },
  {
   "cell_type": "code",
   "execution_count": 24,
   "id": "8047fcfa-264b-440e-ad65-59826932fbf9",
   "metadata": {},
   "outputs": [
    {
     "name": "stdout",
     "output_type": "stream",
     "text": [
      "[[ 0  1  2  3  4]\n",
      " [ 5  6  7  8  9]\n",
      " [10 11 12 13 14]\n",
      " [15 16 17 18 19]] <class 'numpy.ndarray'> (4, 5)\n",
      "[[ 7  8]\n",
      " [12 13]]\n"
     ]
    }
   ],
   "source": [
    "arr2=np.arange(20).reshape(4,5)\n",
    "print(arr2,type(arr2),arr2.shape)\n",
    "print(arr2[1:3,2:4])\n",
    "\n"
   ]
  },
  {
   "cell_type": "code",
   "execution_count": null,
   "id": "d17f45e0-0dfb-4347-bcba-8a29961652cf",
   "metadata": {},
   "outputs": [],
   "source": [
    "#using boolean arrays\n"
   ]
  },
  {
   "cell_type": "code",
   "execution_count": 25,
   "id": "3ef9a938-2533-4e76-ad4b-db1203991e95",
   "metadata": {},
   "outputs": [
    {
     "name": "stdout",
     "output_type": "stream",
     "text": [
      "[ 0  5 10 15 20 25 30 35 40 45] <class 'numpy.ndarray'>\n"
     ]
    }
   ],
   "source": [
    "arr1=np.arange(10) *5\n",
    "print(arr1,type(arr1))"
   ]
  },
  {
   "cell_type": "code",
   "execution_count": 31,
   "id": "7e4634e5-0125-495b-be83-19b000d0ab96",
   "metadata": {},
   "outputs": [
    {
     "name": "stdout",
     "output_type": "stream",
     "text": [
      "['bob' 'joe' 'will' 'bob'] <class 'numpy.ndarray'>\n",
      "[ True False False  True]\n",
      "[False False False False]\n",
      "[ True False False  True]\n"
     ]
    }
   ],
   "source": [
    "names=np.array(['bob','joe','will',\"bob\"])\n",
    "print(names,type(names))\n",
    "print(names =='bob')\n",
    "print(names =='Bob')\n",
    "print((names =='shilpi')|(names ==\"bob\"))\n"
   ]
  },
  {
   "cell_type": "code",
   "execution_count": null,
   "id": "5dcbdbc3",
   "metadata": {},
   "outputs": [],
   "source": []
  },
  {
   "cell_type": "code",
   "execution_count": null,
   "id": "655a1d48",
   "metadata": {},
   "outputs": [],
   "source": []
  },
  {
   "cell_type": "code",
   "execution_count": null,
   "id": "90e81172",
   "metadata": {},
   "outputs": [],
   "source": []
  },
  {
   "cell_type": "code",
   "execution_count": null,
   "id": "63871baa",
   "metadata": {},
   "outputs": [],
   "source": []
  },
  {
   "cell_type": "code",
   "execution_count": null,
   "id": "2dd77d15",
   "metadata": {},
   "outputs": [],
   "source": []
  },
  {
   "cell_type": "code",
   "execution_count": null,
   "id": "fea82902",
   "metadata": {},
   "outputs": [],
   "source": []
  },
  {
   "cell_type": "code",
   "execution_count": null,
   "id": "b991a872",
   "metadata": {},
   "outputs": [],
   "source": []
  },
  {
   "cell_type": "code",
   "execution_count": null,
   "id": "94e1430a",
   "metadata": {},
   "outputs": [],
   "source": []
  },
  {
   "cell_type": "code",
   "execution_count": null,
   "id": "12ef424c",
   "metadata": {},
   "outputs": [],
   "source": []
  },
  {
   "cell_type": "code",
   "execution_count": null,
   "id": "93cf4bbf",
   "metadata": {},
   "outputs": [],
   "source": []
  },
  {
   "cell_type": "code",
   "execution_count": null,
   "id": "3be16ae6-a6dd-49c3-adaa-1de48c21d1c8",
   "metadata": {},
   "outputs": [],
   "source": [
    "#dealing with random numbers"
   ]
  },
  {
   "cell_type": "code",
   "execution_count": 32,
   "id": "7d9b598c-1490-4cb1-a9d7-b50f9a691298",
   "metadata": {},
   "outputs": [
    {
     "name": "stdout",
     "output_type": "stream",
     "text": [
      "[-0.10268002 -0.8847445   0.60204849 -1.12335882  1.11628748 -0.88845234\n",
      " -1.14554303 -0.12002298 -0.2544184  -1.11039969]\n",
      "9\n"
     ]
    }
   ],
   "source": [
    "vect1 = np.random.randn(10)\n",
    "print (vect1)\n",
    "vect1 = np.random.randint(1, 10)\n",
    "print (vect1)"
   ]
  },
  {
   "cell_type": "code",
   "execution_count": 33,
   "id": "116f2b21",
   "metadata": {},
   "outputs": [
    {
     "name": "stdout",
     "output_type": "stream",
     "text": [
      "[ 0.55341636  0.53628209  0.06529786 -0.66542255  0.85547985]\n",
      "0.03427329251359197 0.9927724207738198\n"
     ]
    }
   ],
   "source": [
    "vect1 = np.random.randn(5000)\n",
    "print (vect1[:5])\n",
    "print (np.mean(vect1), np.std(vect1))"
   ]
  },
  {
   "cell_type": "code",
   "execution_count": null,
   "id": "8f69a9b6",
   "metadata": {},
   "outputs": [],
   "source": []
  },
  {
   "cell_type": "code",
   "execution_count": null,
   "id": "bcbcebca",
   "metadata": {},
   "outputs": [],
   "source": []
  },
  {
   "cell_type": "code",
   "execution_count": null,
   "id": "b8c89c47",
   "metadata": {},
   "outputs": [],
   "source": []
  },
  {
   "cell_type": "code",
   "execution_count": null,
   "id": "4c86f7e1",
   "metadata": {},
   "outputs": [],
   "source": []
  },
  {
   "cell_type": "code",
   "execution_count": null,
   "id": "34eef196",
   "metadata": {},
   "outputs": [],
   "source": []
  },
  {
   "cell_type": "code",
   "execution_count": null,
   "id": "66675d4e",
   "metadata": {},
   "outputs": [],
   "source": []
  },
  {
   "cell_type": "code",
   "execution_count": null,
   "id": "b508bf8f",
   "metadata": {},
   "outputs": [],
   "source": []
  },
  {
   "cell_type": "code",
   "execution_count": null,
   "id": "ced17c4f",
   "metadata": {},
   "outputs": [],
   "source": []
  },
  {
   "cell_type": "code",
   "execution_count": null,
   "id": "ae03d0e7",
   "metadata": {},
   "outputs": [],
   "source": []
  },
  {
   "cell_type": "code",
   "execution_count": null,
   "id": "f1aed337",
   "metadata": {},
   "outputs": [],
   "source": []
  },
  {
   "cell_type": "code",
   "execution_count": null,
   "id": "7c92148f",
   "metadata": {},
   "outputs": [],
   "source": []
  },
  {
   "cell_type": "code",
   "execution_count": null,
   "id": "7f88495d",
   "metadata": {},
   "outputs": [],
   "source": []
  },
  {
   "cell_type": "code",
   "execution_count": null,
   "id": "84abbcfa-a00c-43f8-8aa2-1d83440c8de6",
   "metadata": {},
   "outputs": [],
   "source": []
  },
  {
   "cell_type": "code",
   "execution_count": null,
   "id": "8165a89b-5d3c-4749-a907-0d07f3ee4257",
   "metadata": {},
   "outputs": [],
   "source": []
  },
  {
   "cell_type": "code",
   "execution_count": null,
   "id": "ea9e1612-4cda-471f-a0ce-f8ebac5a333d",
   "metadata": {},
   "outputs": [],
   "source": []
  },
  {
   "cell_type": "code",
   "execution_count": null,
   "id": "5a39e40a-59fd-4191-9b45-296f3a18300b",
   "metadata": {},
   "outputs": [],
   "source": []
  },
  {
   "cell_type": "code",
   "execution_count": null,
   "id": "d72814f1-4850-44d1-b093-d45f5f36e0ff",
   "metadata": {},
   "outputs": [],
   "source": []
  },
  {
   "cell_type": "code",
   "execution_count": null,
   "id": "12edfed1-dcde-43ab-b319-3f04d1bd614a",
   "metadata": {},
   "outputs": [],
   "source": []
  }
 ],
 "metadata": {
  "kernelspec": {
   "display_name": "Python 3 (ipykernel)",
   "language": "python",
   "name": "python3"
  },
  "language_info": {
   "codemirror_mode": {
    "name": "ipython",
    "version": 3
   },
   "file_extension": ".py",
   "mimetype": "text/x-python",
   "name": "python",
   "nbconvert_exporter": "python",
   "pygments_lexer": "ipython3",
   "version": "3.11.0"
  }
 },
 "nbformat": 4,
 "nbformat_minor": 5
}
