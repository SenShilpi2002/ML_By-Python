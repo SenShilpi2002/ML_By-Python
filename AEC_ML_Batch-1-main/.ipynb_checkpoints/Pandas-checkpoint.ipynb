{
 "cells": [
  {
   "cell_type": "markdown",
   "id": "3810b85c-7da8-459d-9ef2-cfc59b583fb2",
   "metadata": {},
   "source": [
    "## Introduction to Pandas: Data Manipulation"
   ]
  },
  {
   "cell_type": "markdown",
   "id": "4cb5ef1d-4740-45d4-aa39-d700738b6430",
   "metadata": {},
   "source": [
    "> It is often said that 80% of data analysis is spent on the data cleaning and preparing data. To get a handle on the problem, this section will focus on a small, nut important aspect of data manipulation and cleaning with pandas."
   ]
  },
  {
   "cell_type": "markdown",
   "id": "e7a28234-dfcd-4f65-822f-f47ea929d296",
   "metadata": {},
   "source": [
    "### Data Structures in Pandas"
   ]
  },
  {
   "cell_type": "markdown",
   "id": "cf41d046-c6ee-4f57-8f49-69f9c2a70447",
   "metadata": {},
   "source": [
    "There are two different data structures are there in Pandas -\n",
    "* **Series -** It is an one-dimensional labeled array of holding data of any data type (e.g. integer, string, floating point number, Python objects etc.). The axis are collectively referred to as the index.\n",
    "* **Data Frame -** Is is a two-dimensional labeled data structure with columns of potentially different types. You can think of it as a SQL table or MS-Excel spreadsheets. "
   ]
  },
  {
   "cell_type": "markdown",
   "id": "64d0bb3f-5dc3-43b0-98dc-3392dd81fd40",
   "metadata": {},
   "source": [
    "### Series Data Structure"
   ]
  },
  {
   "cell_type": "markdown",
   "id": "5d37ff51-b57c-40ce-8314-f3c657e792d2",
   "metadata": {},
   "source": [
    "**pandas.core.series.Series(data, index, dtype, copy)**\n",
    "* **data -** Data for the Series from list or ndarray, constants etc.\n",
    "* **index -** It is unique and hashable for easy identification\n",
    "* **dtype -** It is for data type\n",
    "* **copy -** It only affects Series on ndarray  data inputs"
   ]
  },
  {
   "cell_type": "code",
   "execution_count": 1,
   "id": "f8d6ba3d-b049-4f48-a733-b66f04aa3ed0",
   "metadata": {},
   "outputs": [],
   "source": [
    "# importing required modules\n",
    "import pandas as pd\n",
    "import numpy as np"
   ]
  },
  {
   "cell_type": "code",
   "execution_count": 2,
   "id": "fa598a5d-4053-416d-bee5-ae9f716e895c",
   "metadata": {},
   "outputs": [
    {
     "name": "stdout",
     "output_type": "stream",
     "text": [
      "Series([], dtype: float64) 0 <class 'pandas.core.series.Series'> 1811469091792\n"
     ]
    },
    {
     "name": "stderr",
     "output_type": "stream",
     "text": [
      "<ipython-input-2-812467d8dfd0>:2: DeprecationWarning: The default dtype for empty Series will be 'object' instead of 'float64' in a future version. Specify a dtype explicitly to silence this warning.\n",
      "  s = pd.Series()\n"
     ]
    }
   ],
   "source": [
    "# creating empty Series\n",
    "s = pd.Series()\n",
    "print (s, len(s), type(s), id(s))"
   ]
  },
  {
   "cell_type": "code",
   "execution_count": 5,
   "id": "9cfd1976-3ecf-4a6f-bc93-f756fff3b420",
   "metadata": {},
   "outputs": [
    {
     "name": "stdout",
     "output_type": "stream",
     "text": [
      "['Amit' 'Kamal' 'Binay' 'Tuhin'] <class 'numpy.ndarray'>\n",
      "0     Amit\n",
      "1    Kamal\n",
      "2    Binay\n",
      "3    Tuhin\n",
      "dtype: object\n",
      "<class 'pandas.core.series.Series'>\n"
     ]
    }
   ],
   "source": [
    "# creating Series from ndarray\n",
    "my_data = np.array(['Amit', 'Kamal', 'Binay', 'Tuhin'])\n",
    "print (my_data, type(my_data))\n",
    "s = pd.Series(data = my_data)\n",
    "print (s)\n",
    "print (type(s))"
   ]
  },
  {
   "cell_type": "code",
   "execution_count": 7,
   "id": "127e6173-f870-40f1-bff7-0d0cfbf4019b",
   "metadata": {},
   "outputs": [
    {
     "name": "stdout",
     "output_type": "stream",
     "text": [
      "[100 200 300 400 500]\n",
      "0    100\n",
      "1    200\n",
      "2    300\n",
      "3    400\n",
      "4    500\n",
      "dtype: int32\n",
      "[999 888 300 400 500]\n",
      "0    999\n",
      "1    888\n",
      "2    300\n",
      "3    400\n",
      "4    500\n",
      "dtype: int32\n"
     ]
    }
   ],
   "source": [
    "arr1 = np.array([100, 200, 300, 400, 500])\n",
    "print(arr1)\n",
    "s = pd.Series(data = arr1, copy = False)\n",
    "print (s)\n",
    "s[0] = 999\n",
    "arr1[1] = 888\n",
    "print (arr1)\n",
    "print (s)"
   ]
  },
  {
   "cell_type": "code",
   "execution_count": 8,
   "id": "39aaffb3-afdf-4fc1-b166-5e1415af9640",
   "metadata": {},
   "outputs": [
    {
     "name": "stdout",
     "output_type": "stream",
     "text": [
      "[100 200 300 400 500]\n",
      "0    100\n",
      "1    200\n",
      "2    300\n",
      "3    400\n",
      "4    500\n",
      "dtype: int32\n",
      "[100 888 300 400 500]\n",
      "0    999\n",
      "1    200\n",
      "2    300\n",
      "3    400\n",
      "4    500\n",
      "dtype: int32\n"
     ]
    }
   ],
   "source": [
    "arr1 = np.array([100, 200, 300, 400, 500])\n",
    "print(arr1)\n",
    "s = pd.Series(data = arr1, copy = True)\n",
    "print (s)\n",
    "s[0] = 999\n",
    "arr1[1] = 888\n",
    "print (arr1)\n",
    "print (s)"
   ]
  },
  {
   "cell_type": "code",
   "execution_count": null,
   "id": "7360ce37-9544-4f2b-841e-d22ac7b8524a",
   "metadata": {},
   "outputs": [],
   "source": []
  },
  {
   "cell_type": "code",
   "execution_count": null,
   "id": "db139fc3-bb23-4751-9867-591a2a1747a3",
   "metadata": {},
   "outputs": [],
   "source": []
  },
  {
   "cell_type": "code",
   "execution_count": null,
   "id": "38c285c1-fc76-4905-a63b-b1d1ca8c6490",
   "metadata": {},
   "outputs": [],
   "source": []
  },
  {
   "cell_type": "code",
   "execution_count": null,
   "id": "1cba0077-f558-4fa8-a6e7-e24daed8e7ec",
   "metadata": {},
   "outputs": [],
   "source": []
  },
  {
   "cell_type": "code",
   "execution_count": null,
   "id": "f9489d72-6ee9-431f-a43c-306b2c29d0e0",
   "metadata": {},
   "outputs": [],
   "source": []
  },
  {
   "cell_type": "code",
   "execution_count": null,
   "id": "e3c73831-ba61-4f0d-8806-778e0a287364",
   "metadata": {},
   "outputs": [],
   "source": []
  },
  {
   "cell_type": "code",
   "execution_count": null,
   "id": "aefe0e63-a2a8-4bd9-86e2-19fbad2710c4",
   "metadata": {},
   "outputs": [],
   "source": []
  },
  {
   "cell_type": "code",
   "execution_count": null,
   "id": "5b0dc289-0c0e-49a7-a7e5-eba0d04f8b91",
   "metadata": {},
   "outputs": [],
   "source": []
  },
  {
   "cell_type": "code",
   "execution_count": null,
   "id": "f26b374d-60c1-415c-8050-acf3a139b4ae",
   "metadata": {},
   "outputs": [],
   "source": []
  },
  {
   "cell_type": "code",
   "execution_count": null,
   "id": "d6d5073c-4e05-4407-ac0f-441f56dd52b9",
   "metadata": {},
   "outputs": [],
   "source": []
  },
  {
   "cell_type": "code",
   "execution_count": null,
   "id": "5dfa25bc-7c73-4f2c-b0fe-3f4256df2e90",
   "metadata": {},
   "outputs": [],
   "source": []
  },
  {
   "cell_type": "code",
   "execution_count": null,
   "id": "3c7ef9cb-ca99-4440-803a-fa546b3caefe",
   "metadata": {},
   "outputs": [],
   "source": []
  },
  {
   "cell_type": "code",
   "execution_count": null,
   "id": "1d2b0fec-4d5d-4cac-b9dc-2af2da697f8f",
   "metadata": {},
   "outputs": [],
   "source": []
  },
  {
   "cell_type": "code",
   "execution_count": null,
   "id": "4d8df4b7-21e1-4c6d-b71f-620c2588bb63",
   "metadata": {},
   "outputs": [],
   "source": []
  },
  {
   "cell_type": "code",
   "execution_count": null,
   "id": "d7d9c5d0-7332-4bfc-853e-736b6954a18b",
   "metadata": {},
   "outputs": [],
   "source": []
  },
  {
   "cell_type": "code",
   "execution_count": null,
   "id": "682400fd-5fa1-4430-a8a8-406c54441b36",
   "metadata": {},
   "outputs": [],
   "source": []
  },
  {
   "cell_type": "code",
   "execution_count": null,
   "id": "ad1c9208-09f7-46d3-8e43-1add0bf36e3b",
   "metadata": {},
   "outputs": [],
   "source": []
  },
  {
   "cell_type": "code",
   "execution_count": null,
   "id": "8e6ce9e0-4f80-4bb1-987e-335f86ddfb61",
   "metadata": {},
   "outputs": [],
   "source": []
  },
  {
   "cell_type": "code",
   "execution_count": null,
   "id": "52565f9a-fa64-46e8-8625-944a0bac683f",
   "metadata": {},
   "outputs": [],
   "source": []
  },
  {
   "cell_type": "code",
   "execution_count": null,
   "id": "f29835e1-f357-4ed6-ba7d-d493d09b72a6",
   "metadata": {},
   "outputs": [],
   "source": []
  },
  {
   "cell_type": "code",
   "execution_count": null,
   "id": "e144bc2a-e176-49b2-b019-c6145b5a5969",
   "metadata": {},
   "outputs": [],
   "source": []
  },
  {
   "cell_type": "code",
   "execution_count": null,
   "id": "30ed69ae-39a9-4052-b9a9-5feb9d5d561c",
   "metadata": {},
   "outputs": [],
   "source": []
  },
  {
   "cell_type": "code",
   "execution_count": null,
   "id": "6642662b-1c6b-44a9-bf54-e0900a3798a7",
   "metadata": {},
   "outputs": [],
   "source": []
  },
  {
   "cell_type": "code",
   "execution_count": null,
   "id": "1a0a2698-f87f-4144-986a-fc4956319b0b",
   "metadata": {},
   "outputs": [],
   "source": []
  },
  {
   "cell_type": "code",
   "execution_count": null,
   "id": "cbb4c13f-c9be-4094-a9a0-4d2499dea8ac",
   "metadata": {},
   "outputs": [],
   "source": []
  },
  {
   "cell_type": "code",
   "execution_count": null,
   "id": "c79137ce-105a-4bb7-88da-5ba99e352d8c",
   "metadata": {},
   "outputs": [],
   "source": []
  },
  {
   "cell_type": "code",
   "execution_count": null,
   "id": "55033eb5-f1a0-4e6f-a956-7692cf1ddb86",
   "metadata": {},
   "outputs": [],
   "source": []
  },
  {
   "cell_type": "code",
   "execution_count": null,
   "id": "b8479d0f-efb6-4fd3-b961-eaad53faa402",
   "metadata": {},
   "outputs": [],
   "source": []
  },
  {
   "cell_type": "code",
   "execution_count": null,
   "id": "b48745c2-8dc5-45f7-a2eb-349ee0b96aae",
   "metadata": {},
   "outputs": [],
   "source": []
  },
  {
   "cell_type": "code",
   "execution_count": null,
   "id": "69986dc0-87c7-428d-b281-6acb3f37f398",
   "metadata": {},
   "outputs": [],
   "source": []
  },
  {
   "cell_type": "code",
   "execution_count": null,
   "id": "68e8f994-3d0d-424d-97a9-b7bb3c6aca63",
   "metadata": {},
   "outputs": [],
   "source": []
  },
  {
   "cell_type": "code",
   "execution_count": null,
   "id": "0d5a4784-811f-4e09-b2db-6fa0d23926d7",
   "metadata": {},
   "outputs": [],
   "source": []
  },
  {
   "cell_type": "code",
   "execution_count": null,
   "id": "8cf717d2-de06-4d84-a0f0-45cede04ab5c",
   "metadata": {},
   "outputs": [],
   "source": []
  },
  {
   "cell_type": "code",
   "execution_count": null,
   "id": "ec592db9-dbbd-4050-b859-ce93a6977d41",
   "metadata": {},
   "outputs": [],
   "source": []
  },
  {
   "cell_type": "code",
   "execution_count": null,
   "id": "8d4d4285-abaf-4561-b7b1-38086c360467",
   "metadata": {},
   "outputs": [],
   "source": []
  },
  {
   "cell_type": "code",
   "execution_count": null,
   "id": "39a29b88-db94-4b8a-847c-0c71c8b167c1",
   "metadata": {},
   "outputs": [],
   "source": []
  },
  {
   "cell_type": "code",
   "execution_count": null,
   "id": "7b40130e-5923-47df-9b0b-9028b6f72894",
   "metadata": {},
   "outputs": [],
   "source": []
  },
  {
   "cell_type": "code",
   "execution_count": null,
   "id": "d77e83eb-c6ec-4815-9a21-4f4b205dc2e8",
   "metadata": {},
   "outputs": [],
   "source": []
  },
  {
   "cell_type": "code",
   "execution_count": null,
   "id": "2c82f111-1cfe-4802-8e0a-285ee14e1be5",
   "metadata": {},
   "outputs": [],
   "source": []
  },
  {
   "cell_type": "code",
   "execution_count": null,
   "id": "a83a00fe-5f74-4739-9910-d63b5910e8a1",
   "metadata": {},
   "outputs": [],
   "source": []
  },
  {
   "cell_type": "code",
   "execution_count": null,
   "id": "85c9594a-1def-4f8f-97c3-23eb6f25de31",
   "metadata": {},
   "outputs": [],
   "source": []
  },
  {
   "cell_type": "code",
   "execution_count": null,
   "id": "df909083-5388-4e45-b34e-d2f821d07de9",
   "metadata": {},
   "outputs": [],
   "source": []
  },
  {
   "cell_type": "code",
   "execution_count": null,
   "id": "ed4f5dbb-1e01-460b-b288-b6ca3719d078",
   "metadata": {},
   "outputs": [],
   "source": []
  },
  {
   "cell_type": "code",
   "execution_count": null,
   "id": "0f1c8a38-02fe-473d-99fb-09d7e83f1119",
   "metadata": {},
   "outputs": [],
   "source": []
  },
  {
   "cell_type": "code",
   "execution_count": null,
   "id": "a9705379-b10b-4416-a2e1-8c81967b5652",
   "metadata": {},
   "outputs": [],
   "source": []
  },
  {
   "cell_type": "code",
   "execution_count": null,
   "id": "5ef620ca-c9ec-4cab-ac5e-469a944e6aab",
   "metadata": {},
   "outputs": [],
   "source": []
  }
 ],
 "metadata": {
  "kernelspec": {
   "display_name": "Python 3 (ipykernel)",
   "language": "python",
   "name": "python3"
  },
  "language_info": {
   "codemirror_mode": {
    "name": "ipython",
    "version": 3
   },
   "file_extension": ".py",
   "mimetype": "text/x-python",
   "name": "python",
   "nbconvert_exporter": "python",
   "pygments_lexer": "ipython3",
   "version": "3.11.0"
  }
 },
 "nbformat": 4,
 "nbformat_minor": 5
}
