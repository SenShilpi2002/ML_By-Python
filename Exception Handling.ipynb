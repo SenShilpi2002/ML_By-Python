{
 "cells": [
  {
   "cell_type": "markdown",
   "id": "dace1f35-2d9d-4136-8025-d34e602be13c",
   "metadata": {},
   "source": [
    "### Exception Handling using Python"
   ]
  },
  {
   "cell_type": "code",
   "execution_count": 6,
   "id": "e1e6cb8b-0dca-4c83-a9d0-1d9d8789a5e3",
   "metadata": {},
   "outputs": [
    {
     "name": "stdin",
     "output_type": "stream",
     "text": [
      "Please enter the first number:  100\n",
      "Please enter the second number:  200\n"
     ]
    },
    {
     "name": "stdout",
     "output_type": "stream",
     "text": [
      "So the result is 100 + 200 = 300\n"
     ]
    }
   ],
   "source": [
    "num1 = int(input(\"Please enter the first number: \"))\n",
    "num2 = int(input(\"Please enter the second number: \"))\n",
    "result = num1 + num2\n",
    "print (\"So the result is\", num1, \"+\", num2, \"=\", result)"
   ]
  },
  {
   "cell_type": "code",
   "execution_count": 21,
   "id": "05bbe78e-9e7e-4ed6-b87f-d7fa343ed5d7",
   "metadata": {},
   "outputs": [
    {
     "name": "stdout",
     "output_type": "stream",
     "text": [
      "So the result is 100 + 200 = 300\n",
      "So the result is 100 + 200 = 300\n",
      "So the result is 100 + 200 = 300\n",
      "So the result is 100 + 200 = 300\n",
      "So the result is 100 + 200 = 300\n",
      "So the result is 100 + 200 = 300\n",
      "So the result is 100 + 200 = 300\n",
      "So the result is 100 + 200 = 300\n",
      "So the result is 100 + 200 = 300.000000\n",
      "So the result is 100 + 200 =   300.00\n",
      "So the result is 100 + 200 = 300\n"
     ]
    }
   ],
   "source": [
    "print (\"So the result is\", num1, \"+\", num2, \"=\", result)\n",
    "print (\"So the result is \" + str(num1) + \" + \" + str(num2) + \" = \" + str(result))\n",
    "print (\"So the result is {} + {} = {}\".format(num1, num2, result))  # {} is called statement place holder\n",
    "print (\"So the result is {0} + {1} = {2}\".format(num1, num2, result))  # indexed place holder\n",
    "print (\"So the result is {2} + {1} = {0}\".format(result, num2, num1))  # indexed place holder\n",
    "print (\"So the result is {fnum} + {snum} = {tot}\".format(fnum=num1, snum=num2, tot=result))  # labelled place holder\n",
    "print (\"So the result is {fnum} + {snum} = {tot}\".format(tot=result, fnum=num1, snum=num2))  # labelled place holder\n",
    "print (\"So the result is %d + %d = %d\"%(num1, num2, result))\n",
    "print (\"So the result is %d + %d = %f\"%(num1, num2, result))\n",
    "print (\"So the result is %d + %d = %8.2f\"%(num1, num2, result))\n",
    "print (f\"So the result is {num1} + {num2} = {result}\")   # smart formatting"
   ]
  },
  {
   "cell_type": "code",
   "execution_count": 25,
   "id": "90b1b08f-ef95-4b26-9143-d5775bddc58e",
   "metadata": {},
   "outputs": [
    {
     "name": "stdin",
     "output_type": "stream",
     "text": [
      "Please enter the first number:  100\n",
      "Please enter the second number:  0\n"
     ]
    },
    {
     "ename": "ZeroDivisionError",
     "evalue": "division by zero",
     "output_type": "error",
     "traceback": [
      "\u001b[1;31m---------------------------------------------------------------------------\u001b[0m",
      "\u001b[1;31mZeroDivisionError\u001b[0m                         Traceback (most recent call last)",
      "\u001b[1;32m<ipython-input-25-8cc9e34b2c01>\u001b[0m in \u001b[0;36m<module>\u001b[1;34m\u001b[0m\n\u001b[0;32m      1\u001b[0m \u001b[0mnum1\u001b[0m \u001b[1;33m=\u001b[0m \u001b[0mint\u001b[0m\u001b[1;33m(\u001b[0m\u001b[0minput\u001b[0m\u001b[1;33m(\u001b[0m\u001b[1;34m\"Please enter the first number: \"\u001b[0m\u001b[1;33m)\u001b[0m\u001b[1;33m)\u001b[0m\u001b[1;33m\u001b[0m\u001b[1;33m\u001b[0m\u001b[0m\n\u001b[0;32m      2\u001b[0m \u001b[0mnum2\u001b[0m \u001b[1;33m=\u001b[0m \u001b[0mint\u001b[0m\u001b[1;33m(\u001b[0m\u001b[0minput\u001b[0m\u001b[1;33m(\u001b[0m\u001b[1;34m\"Please enter the second number: \"\u001b[0m\u001b[1;33m)\u001b[0m\u001b[1;33m)\u001b[0m\u001b[1;33m\u001b[0m\u001b[1;33m\u001b[0m\u001b[0m\n\u001b[1;32m----> 3\u001b[1;33m \u001b[0mresult\u001b[0m \u001b[1;33m=\u001b[0m \u001b[0mnum1\u001b[0m \u001b[1;33m/\u001b[0m \u001b[0mnum2\u001b[0m\u001b[1;33m\u001b[0m\u001b[1;33m\u001b[0m\u001b[0m\n\u001b[0m\u001b[0;32m      4\u001b[0m \u001b[0mprint\u001b[0m \u001b[1;33m(\u001b[0m\u001b[1;34mf\"So the result is {num1} / {num2} = {result}\"\u001b[0m\u001b[1;33m)\u001b[0m\u001b[1;33m\u001b[0m\u001b[1;33m\u001b[0m\u001b[0m\n\u001b[0;32m      5\u001b[0m \u001b[0mprint\u001b[0m \u001b[1;33m(\u001b[0m\u001b[1;34m\"End of the program...\"\u001b[0m\u001b[1;33m)\u001b[0m\u001b[1;33m\u001b[0m\u001b[1;33m\u001b[0m\u001b[0m\n",
      "\u001b[1;31mZeroDivisionError\u001b[0m: division by zero"
     ]
    }
   ],
   "source": [
    "num1 = int(input(\"Please enter the first number: \"))\n",
    "num2 = int(input(\"Please enter the second number: \"))\n",
    "result = num1 / num2\n",
    "print (f\"So the result is {num1} / {num2} = {result}\")\n",
    "print (\"End of the program...\")"
   ]
  },
  {
   "cell_type": "code",
   "execution_count": 28,
   "id": "b1f590de-5e07-4534-82df-57b88cd26723",
   "metadata": {},
   "outputs": [
    {
     "name": "stdin",
     "output_type": "stream",
     "text": [
      "Please enter the first number:  100\n",
      "Please enter the second number:  0\n"
     ]
    },
    {
     "name": "stdout",
     "output_type": "stream",
     "text": [
      "ZeroDivisionError: Division by ZERO is ILLEGAL...\n",
      "ZeroDivisionError: Error type is: <class 'ZeroDivisionError'>\n",
      "ZeroDivisionError: Error message is: division by zero\n",
      "ZeroDivisionError: Error message is: division by zero\n",
      "End of the program...\n"
     ]
    }
   ],
   "source": [
    "try:\n",
    "    num1 = int(input(\"Please enter the first number: \"))\n",
    "    num2 = int(input(\"Please enter the second number: \"))\n",
    "    result = num1 / num2\n",
    "    print (f\"So the result is {num1} / {num2} = {result}\")\n",
    "except ZeroDivisionError as zde:\n",
    "    print (\"ZeroDivisionError: Division by ZERO is ILLEGAL...\")\n",
    "    print (\"ZeroDivisionError: Error type is:\", type(zde))\n",
    "    print (\"ZeroDivisionError: Error message is:\", zde)\n",
    "    print (\"ZeroDivisionError: Error message is:\", zde.__str__())\n",
    "print (\"End of the program...\")"
   ]
  },
  {
   "cell_type": "code",
   "execution_count": 29,
   "id": "cdfbd672-88b1-40e1-97b4-c99fc8929400",
   "metadata": {},
   "outputs": [
    {
     "name": "stdin",
     "output_type": "stream",
     "text": [
      "Please enter the first number:  100\n",
      "Please enter the second number:  two\n"
     ]
    },
    {
     "ename": "ValueError",
     "evalue": "invalid literal for int() with base 10: 'two'",
     "output_type": "error",
     "traceback": [
      "\u001b[1;31m---------------------------------------------------------------------------\u001b[0m",
      "\u001b[1;31mValueError\u001b[0m                                Traceback (most recent call last)",
      "\u001b[1;32m<ipython-input-29-cf61ae83f82a>\u001b[0m in \u001b[0;36m<module>\u001b[1;34m\u001b[0m\n\u001b[0;32m      1\u001b[0m \u001b[1;32mtry\u001b[0m\u001b[1;33m:\u001b[0m\u001b[1;33m\u001b[0m\u001b[1;33m\u001b[0m\u001b[0m\n\u001b[0;32m      2\u001b[0m     \u001b[0mnum1\u001b[0m \u001b[1;33m=\u001b[0m \u001b[0mint\u001b[0m\u001b[1;33m(\u001b[0m\u001b[0minput\u001b[0m\u001b[1;33m(\u001b[0m\u001b[1;34m\"Please enter the first number: \"\u001b[0m\u001b[1;33m)\u001b[0m\u001b[1;33m)\u001b[0m\u001b[1;33m\u001b[0m\u001b[1;33m\u001b[0m\u001b[0m\n\u001b[1;32m----> 3\u001b[1;33m     \u001b[0mnum2\u001b[0m \u001b[1;33m=\u001b[0m \u001b[0mint\u001b[0m\u001b[1;33m(\u001b[0m\u001b[0minput\u001b[0m\u001b[1;33m(\u001b[0m\u001b[1;34m\"Please enter the second number: \"\u001b[0m\u001b[1;33m)\u001b[0m\u001b[1;33m)\u001b[0m\u001b[1;33m\u001b[0m\u001b[1;33m\u001b[0m\u001b[0m\n\u001b[0m\u001b[0;32m      4\u001b[0m     \u001b[0mresult\u001b[0m \u001b[1;33m=\u001b[0m \u001b[0mnum1\u001b[0m \u001b[1;33m/\u001b[0m \u001b[0mnum2\u001b[0m\u001b[1;33m\u001b[0m\u001b[1;33m\u001b[0m\u001b[0m\n\u001b[0;32m      5\u001b[0m     \u001b[0mprint\u001b[0m \u001b[1;33m(\u001b[0m\u001b[1;34mf\"So the result is {num1} / {num2} = {result}\"\u001b[0m\u001b[1;33m)\u001b[0m\u001b[1;33m\u001b[0m\u001b[1;33m\u001b[0m\u001b[0m\n",
      "\u001b[1;31mValueError\u001b[0m: invalid literal for int() with base 10: 'two'"
     ]
    }
   ],
   "source": [
    "try:\n",
    "    num1 = int(input(\"Please enter the first number: \"))\n",
    "    num2 = int(input(\"Please enter the second number: \"))\n",
    "    result = num1 / num2\n",
    "    print (f\"So the result is {num1} / {num2} = {result}\")\n",
    "except ZeroDivisionError as zde:\n",
    "    print (\"ZeroDivisionError: Division by ZERO is ILLEGAL...\")\n",
    "    print (\"ZeroDivisionError: Error type is:\", type(zde))\n",
    "    print (\"ZeroDivisionError: Error message is:\", zde)\n",
    "print (\"End of the program...\")"
   ]
  },
  {
   "cell_type": "code",
   "execution_count": 32,
   "id": "29e1c275-ec62-41ed-b21a-3ca8919e4e2e",
   "metadata": {},
   "outputs": [
    {
     "name": "stdin",
     "output_type": "stream",
     "text": [
      "Please enter the first number:  100\n",
      "Please enter the second number:  twenty\n"
     ]
    },
    {
     "name": "stdout",
     "output_type": "stream",
     "text": [
      "ValueError: Please provide numeric values...\n",
      "ValueError: Error type is: <class 'ValueError'>\n",
      "ValueError: Error message is: invalid literal for int() with base 10: 'twenty'\n",
      "End of the program...\n"
     ]
    }
   ],
   "source": [
    "try:\n",
    "    num1 = int(input(\"Please enter the first number: \"))\n",
    "    num2 = int(input(\"Please enter the second number: \"))\n",
    "    result = num1 / num2\n",
    "    print (f\"So the result is {num1} / {num2} = {result}\")\n",
    "except ZeroDivisionError as zde:\n",
    "    print (\"ZeroDivisionError: Division by ZERO is ILLEGAL...\")\n",
    "    print (\"ZeroDivisionError: Error type is:\", type(zde))\n",
    "    print (\"ZeroDivisionError: Error message is:\", zde)\n",
    "except ValueError as ve:\n",
    "    print (\"ValueError: Please provide numeric values...\")\n",
    "    print (\"ValueError: Error type is:\", type(ve))\n",
    "    print (\"ValueError: Error message is:\", ve)\n",
    "print (\"End of the program...\")"
   ]
  },
  {
   "cell_type": "code",
   "execution_count": 35,
   "id": "28479ada-8201-4c04-bc71-108c5ab81999",
   "metadata": {},
   "outputs": [
    {
     "name": "stdin",
     "output_type": "stream",
     "text": [
      "Please enter the first number:  100.5\n"
     ]
    },
    {
     "name": "stdout",
     "output_type": "stream",
     "text": [
      "ValueError: Please provide numeric values...\n",
      "ValueError: Error type is: <class 'ValueError'>\n",
      "ValueError: Error message is: invalid literal for int() with base 10: '100.5'\n",
      "End of the program...\n"
     ]
    }
   ],
   "source": [
    "try:\n",
    "    num1 = int(input(\"Please enter the first number: \"))\n",
    "    num2 = int(input(\"Please enter the second number: \"))\n",
    "    result = num1 / num2\n",
    "    print (f\"So the result is {num1} / {num2} = {result}\")\n",
    "except ValueError as ve:\n",
    "    print (\"ValueError: Please provide numeric values...\")\n",
    "    print (\"ValueError: Error type is:\", type(ve))\n",
    "    print (\"ValueError: Error message is:\", ve)\n",
    "except ZeroDivisionError as zde:\n",
    "    print (\"ZeroDivisionError: Division by ZERO is ILLEGAL...\")\n",
    "    print (\"ZeroDivisionError: Error type is:\", type(zde))\n",
    "    print (\"ZeroDivisionError: Error message is:\", zde)\n",
    "\n",
    "print (\"End of the program...\")"
   ]
  },
  {
   "cell_type": "code",
   "execution_count": 36,
   "id": "a99937ff-ed9b-43a5-81db-475512798f7c",
   "metadata": {},
   "outputs": [
    {
     "name": "stdin",
     "output_type": "stream",
     "text": [
      "Please enter the first number:  100\n",
      "Please enter the second number:  0\n"
     ]
    },
    {
     "name": "stdout",
     "output_type": "stream",
     "text": [
      "Exception: Any other exception has occurred...\n",
      "Exception: Error type is: <class 'ZeroDivisionError'>\n",
      "Exception: Error message is: division by zero\n",
      "End of the program...\n"
     ]
    }
   ],
   "source": [
    "try:\n",
    "    num1 = int(input(\"Please enter the first number: \"))\n",
    "    num2 = int(input(\"Please enter the second number: \"))\n",
    "    result = num1 / num2\n",
    "    print (f\"So the result is {num1} / {num2} = {result}\")\n",
    "except ValueError as ve:\n",
    "    print (\"ValueError: Please provide numeric values...\")\n",
    "    print (\"ValueError: Error type is:\", type(ve))\n",
    "    print (\"ValueError: Error message is:\", ve)\n",
    "# except ZeroDivisionError as zde:\n",
    "#     print (\"ZeroDivisionError: Division by ZERO is ILLEGAL...\")\n",
    "#     print (\"ZeroDivisionError: Error type is:\", type(zde))\n",
    "#     print (\"ZeroDivisionError: Error message is:\", zde)\n",
    "except Exception as ex:\n",
    "    print (\"Exception: Any other exception has occurred...\")\n",
    "    print (\"Exception: Error type is:\", type(ex))\n",
    "    print (\"Exception: Error message is:\", ex)\n",
    "\n",
    "print (\"End of the program...\")"
   ]
  },
  {
   "cell_type": "code",
   "execution_count": 37,
   "id": "4cc713a3-43b5-44b9-9604-2bc1cf280d4e",
   "metadata": {},
   "outputs": [
    {
     "name": "stdin",
     "output_type": "stream",
     "text": [
      "Please enter the first number:  100\n",
      "Please enter the second number:  two\n"
     ]
    },
    {
     "name": "stdout",
     "output_type": "stream",
     "text": [
      "Exception: Any other exception has occurred...\n",
      "Exception: Error type is: <class 'ValueError'>\n",
      "Exception: Error message is: invalid literal for int() with base 10: 'two'\n",
      "End of the program...\n"
     ]
    }
   ],
   "source": [
    "# visit this site for more details: https://docs.python.org/3.11/library/exceptions.html\n",
    "try:\n",
    "    num1 = int(input(\"Please enter the first number: \"))\n",
    "    num2 = int(input(\"Please enter the second number: \"))\n",
    "    result = num1 / num2\n",
    "    print (f\"So the result is {num1} / {num2} = {result}\")\n",
    "# except ValueError as ve:\n",
    "#     print (\"ValueError: Please provide numeric values...\")\n",
    "#     print (\"ValueError: Error type is:\", type(ve))\n",
    "#     print (\"ValueError: Error message is:\", ve)\n",
    "except ZeroDivisionError as zde:\n",
    "    print (\"ZeroDivisionError: Division by ZERO is ILLEGAL...\")\n",
    "    print (\"ZeroDivisionError: Error type is:\", type(zde))\n",
    "    print (\"ZeroDivisionError: Error message is:\", zde)\n",
    "except Exception as ex:\n",
    "    print (\"Exception: Any other exception has occurred...\")\n",
    "    print (\"Exception: Error type is:\", type(ex))\n",
    "    print (\"Exception: Error message is:\", ex)\n",
    "\n",
    "print (\"End of the program...\")"
   ]
  },
  {
   "cell_type": "code",
   "execution_count": 39,
   "id": "1a917b42-0aa2-43de-9459-335254f9c528",
   "metadata": {},
   "outputs": [
    {
     "name": "stdin",
     "output_type": "stream",
     "text": [
      "Please enter the first number:  100\n",
      "Please enter the second number:  two\n"
     ]
    },
    {
     "name": "stdout",
     "output_type": "stream",
     "text": [
      "Exception: Any other exception has occurred...\n",
      "Exception: Error type is: <class 'ValueError'>\n",
      "Exception: Error message is: invalid literal for int() with base 10: 'two'\n",
      "End of the program...\n"
     ]
    }
   ],
   "source": [
    "# visit this site for more details: https://docs.python.org/3.11/library/exceptions.html\n",
    "try:\n",
    "    num1 = int(input(\"Please enter the first number: \"))\n",
    "    num2 = int(input(\"Please enter the second number: \"))\n",
    "    result = num1 / num2\n",
    "    print (f\"So the result is {num1} / {num2} = {result}\")\n",
    "except Exception as ex:\n",
    "    print (\"Exception: Any other exception has occurred...\")\n",
    "    print (\"Exception: Error type is:\", type(ex))\n",
    "    print (\"Exception: Error message is:\", ex)\n",
    "except ValueError as ve:\n",
    "    print (\"ValueError: Please provide numeric values...\")\n",
    "    print (\"ValueError: Error type is:\", type(ve))\n",
    "    print (\"ValueError: Error message is:\", ve)\n",
    "except ZeroDivisionError as zde:\n",
    "    print (\"ZeroDivisionError: Division by ZERO is ILLEGAL...\")\n",
    "    print (\"ZeroDivisionError: Error type is:\", type(zde))\n",
    "    print (\"ZeroDivisionError: Error message is:\", zde)\n",
    "\n",
    "print (\"End of the program...\")"
   ]
  },
  {
   "cell_type": "code",
   "execution_count": 45,
   "id": "85a6ad59-246b-417e-a508-b8a4e9e57bc6",
   "metadata": {},
   "outputs": [
    {
     "name": "stdout",
     "output_type": "stream",
     "text": [
      "Executing for i = 0...\n",
      "Executing for i = 1...\n",
      "Executing for i = 2...\n",
      "Executing for i = 3...\n",
      "Executing for i = 4...\n",
      "Executing for i = 5...\n",
      "Exiting from the loop...\n",
      "End of the program...\n"
     ]
    }
   ],
   "source": [
    "# for with else block\n",
    "for i in range(10):\n",
    "    print (f\"Executing for i = {i}...\")\n",
    "    if (i == 5):\n",
    "        print (\"Exiting from the loop...\")\n",
    "        break\n",
    "else:\n",
    "    print (\"Executing the ELSE Block...\")\n",
    "print (\"End of the program...\")"
   ]
  },
  {
   "cell_type": "code",
   "execution_count": 49,
   "id": "e9cfb740-ab53-43da-8d0b-d6628415bc98",
   "metadata": {},
   "outputs": [
    {
     "name": "stdin",
     "output_type": "stream",
     "text": [
      "Please enter one integer number:  100\n"
     ]
    },
    {
     "name": "stdout",
     "output_type": "stream",
     "text": [
      "100 is NOT a PRIME Number...\n",
      "End of the program...\n"
     ]
    }
   ],
   "source": [
    "# for with else block\n",
    "num = int(input(\"Please enter one integer number: \"))\n",
    "for i in range(2, int(num ** 0.5) + 1):\n",
    "    if (num % i == 0):\n",
    "        print (f\"{num} is NOT a PRIME Number...\")\n",
    "        break\n",
    "else:\n",
    "    print (f\"{num} is a PRIME Number...\")\n",
    "print (\"End of the program...\")"
   ]
  },
  {
   "cell_type": "code",
   "execution_count": 51,
   "id": "5841a029-839e-4bc4-924a-9ce3e0e5ca7c",
   "metadata": {},
   "outputs": [
    {
     "name": "stdin",
     "output_type": "stream",
     "text": [
      "Please enter one integer number:  101\n"
     ]
    },
    {
     "name": "stdout",
     "output_type": "stream",
     "text": [
      "101 is a PRIME Number...\n",
      "End of the program...\n"
     ]
    }
   ],
   "source": [
    "# while with else block\n",
    "num = int(input(\"Please enter one integer number: \"))\n",
    "i = 2\n",
    "while (i <= int(num ** 0.5)):\n",
    "    if (num % i == 0):\n",
    "        print (f\"{num} is NOT a PRIME Number...\")\n",
    "        break\n",
    "    i = i + 1\n",
    "else:\n",
    "    print (f\"{num} is a PRIME Number...\")\n",
    "print (\"End of the program...\")"
   ]
  },
  {
   "cell_type": "code",
   "execution_count": 57,
   "id": "ed1e3b73-7216-400e-9772-2bc280b82170",
   "metadata": {},
   "outputs": [
    {
     "name": "stdin",
     "output_type": "stream",
     "text": [
      "Please enter the first number:  100\n",
      "Please enter the second number:  0\n"
     ]
    },
    {
     "name": "stdout",
     "output_type": "stream",
     "text": [
      "ZeroDivisionError: Division by ZERO is ILLEGAL...\n",
      "ZeroDivisionError: Error type is: <class 'ZeroDivisionError'>\n",
      "ZeroDivisionError: Error message is: division by zero\n",
      "Finally: Finally block is executing...\n",
      "Finally: It executes always...\n",
      "End of the program...\n"
     ]
    }
   ],
   "source": [
    "# visit this site for more details: https://docs.python.org/3.11/library/exceptions.html\n",
    "try:\n",
    "    num1 = int(input(\"Please enter the first number: \"))\n",
    "    num2 = int(input(\"Please enter the second number: \"))\n",
    "    result = num1 / num2\n",
    "    print (f\"So the result is {num1} / {num2} = {result}\")\n",
    "except ValueError as ve:\n",
    "    print (\"ValueError: Please provide numeric values...\")\n",
    "    print (\"ValueError: Error type is:\", type(ve))\n",
    "    print (\"ValueError: Error message is:\", ve)\n",
    "except ZeroDivisionError as zde:\n",
    "    print (\"ZeroDivisionError: Division by ZERO is ILLEGAL...\")\n",
    "    print (\"ZeroDivisionError: Error type is:\", type(zde))\n",
    "    print (\"ZeroDivisionError: Error message is:\", zde)\n",
    "except Exception as ex:\n",
    "    print (\"Exception: Any other exception has occurred...\")\n",
    "    print (\"Exception: Error type is:\", type(ex))\n",
    "    print (\"Exception: Error message is:\", ex)\n",
    "else:\n",
    "    print (\"Else: Else block is executing...\")\n",
    "    print (\"Else: Had a smooth executing...\")\n",
    "finally:\n",
    "    print (\"Finally: Finally block is executing...\")\n",
    "    print (\"Finally: It executes always...\")\n",
    "\n",
    "print (\"End of the program...\")"
   ]
  },
  {
   "cell_type": "code",
   "execution_count": 58,
   "id": "f901df48-bbfe-4570-9872-6b6b3fdfd347",
   "metadata": {},
   "outputs": [
    {
     "name": "stdout",
     "output_type": "stream",
     "text": [
      "Help on built-in function print in module builtins:\n",
      "\n",
      "print(...)\n",
      "    print(value, ..., sep=' ', end='\\n', file=sys.stdout, flush=False)\n",
      "    \n",
      "    Prints the values to a stream, or to sys.stdout by default.\n",
      "    Optional keyword arguments:\n",
      "    file:  a file-like object (stream); defaults to the current sys.stdout.\n",
      "    sep:   string inserted between values, default a space.\n",
      "    end:   string appended after the last value, default a newline.\n",
      "    flush: whether to forcibly flush the stream.\n",
      "\n"
     ]
    }
   ],
   "source": [
    "help(print)"
   ]
  },
  {
   "cell_type": "code",
   "execution_count": 62,
   "id": "9dc5a15f-f47d-47a4-bbe2-ded20540cc29",
   "metadata": {},
   "outputs": [
    {
     "name": "stdout",
     "output_type": "stream",
     "text": [
      "Welcome-to all=====Hello\n"
     ]
    }
   ],
   "source": [
    "print (\"Welcome\", \"to all\", sep = \"-\", end = \"=====\")\n",
    "print (\"Hello\")"
   ]
  },
  {
   "cell_type": "code",
   "execution_count": 65,
   "id": "a95597cd-93cc-4f9f-a414-7e89977ee258",
   "metadata": {},
   "outputs": [
    {
     "name": "stdin",
     "output_type": "stream",
     "text": [
      "Please enter the first number:  -200\n",
      "Please enter the second number:  20\n"
     ]
    },
    {
     "name": "stdout",
     "output_type": "stream",
     "text": [
      "NameError: Input data out of range...\n",
      "NameError: Input data is below -100 limit value...\n",
      "Finally: Finally block is executing...\n",
      "Finally: It executes always...\n",
      "End of the program...\n"
     ]
    }
   ],
   "source": [
    "try:\n",
    "    num1 = int(input(\"Please enter the first number: \"))\n",
    "    num2 = int(input(\"Please enter the second number: \"))\n",
    "    if (num1 > 100 or num2 > 100):\n",
    "        raise NameError(\"Above100\")\n",
    "    if (num1 < -100 or num2 < -100):\n",
    "        raise NameError(\"Below-100\")\n",
    "    result = num1 / num2\n",
    "    print (f\"So the result is {num1} / {num2} = {result}\")\n",
    "except ValueError as ve:\n",
    "    print (\"ValueError: Please provide numeric values...\")\n",
    "    print (\"ValueError: Error type is:\", type(ve))\n",
    "    print (\"ValueError: Error message is:\", ve)\n",
    "except ZeroDivisionError as zde:\n",
    "    print (\"ZeroDivisionError: Division by ZERO is ILLEGAL...\")\n",
    "    print (\"ZeroDivisionError: Error type is:\", type(zde))\n",
    "    print (\"ZeroDivisionError: Error message is:\", zde)\n",
    "except NameError as ne:\n",
    "    print (\"NameError: Input data out of range...\")\n",
    "    if (\"Above100\" == str(ne)): print (\"NameError: Input data is above 100 limit value...\")\n",
    "    if (\"Below-100\" == str(ne)): print (\"NameError: Input data is below -100 limit value...\")\n",
    "except Exception as ex:\n",
    "    print (\"Exception: Any other exception has occurred...\")\n",
    "    print (\"Exception: Error type is:\", type(ex))\n",
    "    print (\"Exception: Error message is:\", ex)\n",
    "else:\n",
    "    print (\"Else: Else block is executing...\")\n",
    "    print (\"Else: Had a smooth executing...\")\n",
    "finally:\n",
    "    print (\"Finally: Finally block is executing...\")\n",
    "    print (\"Finally: It executes always...\")\n",
    "\n",
    "print (\"End of the program...\")"
   ]
  },
  {
   "cell_type": "code",
   "execution_count": 66,
   "id": "a820b812-4b06-464d-aa7e-f5d8e5be882b",
   "metadata": {},
   "outputs": [
    {
     "name": "stdin",
     "output_type": "stream",
     "text": [
      "Please enter the first number:  100\n",
      "Please enter the second number:  3000\n"
     ]
    },
    {
     "name": "stdout",
     "output_type": "stream",
     "text": [
      "NameError: Input data out of range...\n",
      "NameError: Input data is above 100 limit value...\n",
      "Finally: Finally block is executing...\n",
      "Finally: It executes always...\n"
     ]
    },
    {
     "name": "stdin",
     "output_type": "stream",
     "text": [
      "Please enter the first number:  -900\n",
      "Please enter the second number:  20\n"
     ]
    },
    {
     "name": "stdout",
     "output_type": "stream",
     "text": [
      "NameError: Input data out of range...\n",
      "NameError: Input data is below -100 limit value...\n",
      "Finally: Finally block is executing...\n",
      "Finally: It executes always...\n"
     ]
    },
    {
     "name": "stdin",
     "output_type": "stream",
     "text": [
      "Please enter the first number:  100\n",
      "Please enter the second number:  0\n"
     ]
    },
    {
     "name": "stdout",
     "output_type": "stream",
     "text": [
      "ZeroDivisionError: Division by ZERO is ILLEGAL...\n",
      "ZeroDivisionError: Error type is: <class 'ZeroDivisionError'>\n",
      "ZeroDivisionError: Error message is: division by zero\n",
      "Finally: Finally block is executing...\n",
      "Finally: It executes always...\n"
     ]
    },
    {
     "name": "stdin",
     "output_type": "stream",
     "text": [
      "Please enter the first number:  100.5\n"
     ]
    },
    {
     "name": "stdout",
     "output_type": "stream",
     "text": [
      "ValueError: Please provide numeric values...\n",
      "ValueError: Error type is: <class 'ValueError'>\n",
      "ValueError: Error message is: invalid literal for int() with base 10: '100.5'\n",
      "Finally: Finally block is executing...\n",
      "Finally: It executes always...\n"
     ]
    },
    {
     "name": "stdin",
     "output_type": "stream",
     "text": [
      "Please enter the first number:  100\n",
      "Please enter the second number:  two\n"
     ]
    },
    {
     "name": "stdout",
     "output_type": "stream",
     "text": [
      "ValueError: Please provide numeric values...\n",
      "ValueError: Error type is: <class 'ValueError'>\n",
      "ValueError: Error message is: invalid literal for int() with base 10: 'two'\n",
      "Finally: Finally block is executing...\n",
      "Finally: It executes always...\n"
     ]
    },
    {
     "name": "stdin",
     "output_type": "stream",
     "text": [
      "Please enter the first number:  40\n",
      "Please enter the second number:  5\n"
     ]
    },
    {
     "name": "stdout",
     "output_type": "stream",
     "text": [
      "So the result is 40 / 5 = 8.0\n",
      "Else: Else block is executing...\n",
      "Else: Had a smooth executing...\n",
      "Finally: Finally block is executing...\n",
      "Finally: It executes always...\n",
      "End of the program...\n"
     ]
    }
   ],
   "source": [
    "while (True):\n",
    "    try:\n",
    "        num1 = int(input(\"Please enter the first number: \"))\n",
    "        num2 = int(input(\"Please enter the second number: \"))\n",
    "        if (num1 > 100 or num2 > 100):\n",
    "            raise NameError(\"Above100\")\n",
    "        if (num1 < -100 or num2 < -100):\n",
    "            raise NameError(\"Below-100\")\n",
    "        result = num1 / num2\n",
    "        print (f\"So the result is {num1} / {num2} = {result}\")\n",
    "    except ValueError as ve:\n",
    "        print (\"ValueError: Please provide numeric values...\")\n",
    "        print (\"ValueError: Error type is:\", type(ve))\n",
    "        print (\"ValueError: Error message is:\", ve)\n",
    "    except ZeroDivisionError as zde:\n",
    "        print (\"ZeroDivisionError: Division by ZERO is ILLEGAL...\")\n",
    "        print (\"ZeroDivisionError: Error type is:\", type(zde))\n",
    "        print (\"ZeroDivisionError: Error message is:\", zde)\n",
    "    except NameError as ne:\n",
    "        print (\"NameError: Input data out of range...\")\n",
    "        if (\"Above100\" == str(ne)): print (\"NameError: Input data is above 100 limit value...\")\n",
    "        if (\"Below-100\" == str(ne)): print (\"NameError: Input data is below -100 limit value...\")\n",
    "    except Exception as ex:\n",
    "        print (\"Exception: Any other exception has occurred...\")\n",
    "        print (\"Exception: Error type is:\", type(ex))\n",
    "        print (\"Exception: Error message is:\", ex)\n",
    "    else:\n",
    "        print (\"Else: Else block is executing...\")\n",
    "        print (\"Else: Had a smooth executing...\")\n",
    "        break\n",
    "    finally:\n",
    "        print (\"Finally: Finally block is executing...\")\n",
    "        print (\"Finally: It executes always...\")\n",
    "\n",
    "print (\"End of the program...\")"
   ]
  },
  {
   "cell_type": "code",
   "execution_count": null,
   "id": "1d0c634f-49e1-4c5c-8fa9-f52cf266df1d",
   "metadata": {},
   "outputs": [],
   "source": []
  },
  {
   "cell_type": "code",
   "execution_count": null,
   "id": "dc97f857-8278-4e0e-a837-b84e490d16cc",
   "metadata": {},
   "outputs": [],
   "source": []
  },
  {
   "cell_type": "code",
   "execution_count": null,
   "id": "f5bd3b8d-e6e7-41b4-8a67-6616492ed1b9",
   "metadata": {},
   "outputs": [],
   "source": []
  }
 ],
 "metadata": {
  "kernelspec": {
   "display_name": "Python 3",
   "language": "python",
   "name": "python3"
  },
  "language_info": {
   "codemirror_mode": {
    "name": "ipython",
    "version": 3
   },
   "file_extension": ".py",
   "mimetype": "text/x-python",
   "name": "python",
   "nbconvert_exporter": "python",
   "pygments_lexer": "ipython3",
   "version": "3.8.8"
  }
 },
 "nbformat": 4,
 "nbformat_minor": 5
}
