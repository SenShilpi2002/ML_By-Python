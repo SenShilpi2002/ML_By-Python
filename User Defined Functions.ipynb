{
 "cells": [
  {
   "cell_type": "code",
   "execution_count": 1,
   "id": "f00baa56-3cd8-43f7-befe-8036401e9678",
   "metadata": {},
   "outputs": [
    {
     "name": "stdout",
     "output_type": "stream",
     "text": [
      "Hello to all...\n",
      "Hello to all...\n"
     ]
    }
   ],
   "source": [
    "def funct1():\n",
    "    print (\"Hello to all...\")\n",
    "    \n",
    "funct1()\n",
    "funct1()"
   ]
  },
  {
   "cell_type": "code",
   "execution_count": 3,
   "id": "82f70551-c0d0-44d6-8919-946b5e1e6b3d",
   "metadata": {},
   "outputs": [
    {
     "name": "stdout",
     "output_type": "stream",
     "text": [
      "Welcome Welcome Welcome Welcome \n",
      "Good Bye !!! Good Bye !!! Good Bye !!! \n"
     ]
    }
   ],
   "source": [
    "def funct2(msg, times):\n",
    "    print (msg * times)\n",
    "    \n",
    "funct2(\"Welcome \", 4)\n",
    "funct2(\"Good Bye !!! \", 3)"
   ]
  },
  {
   "cell_type": "code",
   "execution_count": 7,
   "id": "3b4d88da-ef00-4290-9c50-6b3413f1e86f",
   "metadata": {},
   "outputs": [
    {
     "name": "stdout",
     "output_type": "stream",
     "text": [
      "Good Bye Good Bye Good Bye Good Bye \n",
      "Thank You Thank You Thank You Thank You Thank You \n",
      "<class 'function'>\n"
     ]
    }
   ],
   "source": [
    "def funct3(msg, times):\n",
    "    return msg * times\n",
    "\n",
    "result = funct3(\"Good Bye \", 4)\n",
    "print (result)\n",
    "print (funct3(\"Thank You \", 5))\n",
    "print (type(funct3))"
   ]
  },
  {
   "cell_type": "code",
   "execution_count": 13,
   "id": "6345a3f7-e308-458b-b796-0a5d5605eccc",
   "metadata": {},
   "outputs": [
    {
     "name": "stdout",
     "output_type": "stream",
     "text": [
      "par1 = 100, par2 = 200 and par3 = 300...\n",
      "par1 = 100, par2 = 200 and par3 = 333...\n",
      "par1 = 100, par2 = 222 and par3 = 333...\n",
      "par1 = 111, par2 = 222 and par3 = 333...\n"
     ]
    }
   ],
   "source": [
    "# function with default arguments\n",
    "def funct4(par1 = 111, par2 = 222, par3 = 333):    # positional parameters\n",
    "    print (f\"par1 = {par1}, par2 = {par2} and par3 = {par3}...\")\n",
    "    \n",
    "funct4(100, 200, 300)  # positional arguments\n",
    "funct4(100, 200)\n",
    "funct4(100)\n",
    "funct4()"
   ]
  },
  {
   "cell_type": "code",
   "execution_count": 15,
   "id": "ffc2dbd6-1d2a-49cb-b9db-de032ab46215",
   "metadata": {},
   "outputs": [
    {
     "name": "stdout",
     "output_type": "stream",
     "text": [
      "200\n",
      "900\n"
     ]
    }
   ],
   "source": [
    "def funct5(par1, par2 = None):\n",
    "    # if (par2 == None):\n",
    "    if (par2 is None):\n",
    "        return par1 * 2\n",
    "    else:\n",
    "        return par1 + par2\n",
    "    \n",
    "print (funct5(100))\n",
    "print (funct5(100, 800))"
   ]
  },
  {
   "cell_type": "code",
   "execution_count": 16,
   "id": "f011db0c-f80d-4551-a943-0f24d2563ed6",
   "metadata": {},
   "outputs": [
    {
     "name": "stdout",
     "output_type": "stream",
     "text": [
      "('Amitava', 'Developer', 'Pune') <class 'tuple'> 1753283181504 3\n",
      "('Amitava', 'Developer', 'Pune', 'Male') <class 'tuple'> 1753283184496 4\n",
      "('Amitava', 'Developer', 'Pune', 'Male', 'CTS') <class 'tuple'> 1753283185056 5\n"
     ]
    }
   ],
   "source": [
    "# function with variable number of arguments\n",
    "def funct6(*arg):\n",
    "    print (arg, type(arg), id(arg), len(arg))\n",
    "    \n",
    "funct6(\"Amitava\", \"Developer\", \"Pune\")\n",
    "funct6(\"Amitava\", \"Developer\", \"Pune\", \"Male\")\n",
    "funct6(\"Amitava\", \"Developer\", \"Pune\", \"Male\", \"CTS\")"
   ]
  },
  {
   "cell_type": "code",
   "execution_count": 18,
   "id": "7657c2df-d900-4b45-b2d1-72a18e32f5a7",
   "metadata": {},
   "outputs": [
    {
     "name": "stdout",
     "output_type": "stream",
     "text": [
      "{'name': 'Amitava', 'desig': 'Developer', 'location': 'Pune'} <class 'dict'> 1753283876864 3\n",
      "{'name': 'Amitava', 'desig': 'Developer', 'location': 'Pune', 'gender': 'Male'} <class 'dict'> 1753283876736 4\n",
      "{'name': 'Amitava', 'desig': 'Developer', 'location': 'Pune', 'gender': 'Male', 'company': 'CTS'} <class 'dict'> 1753283876928 5\n"
     ]
    }
   ],
   "source": [
    "# function with variable number of arguments\n",
    "def funct7(**kwarg):\n",
    "    print (kwarg, type(kwarg), id(kwarg), len(kwarg))\n",
    "    \n",
    "funct7(name=\"Amitava\", desig=\"Developer\", location=\"Pune\")\n",
    "funct7(name=\"Amitava\", desig=\"Developer\", location=\"Pune\", gender=\"Male\")\n",
    "funct7(name=\"Amitava\", desig=\"Developer\", location=\"Pune\", gender=\"Male\", company=\"CTS\")"
   ]
  },
  {
   "cell_type": "code",
   "execution_count": 19,
   "id": "57b8117a-eee8-48d7-8d40-7cffbdb2994b",
   "metadata": {},
   "outputs": [
    {
     "name": "stdout",
     "output_type": "stream",
     "text": [
      "('Amitava', 'Developer') <class 'tuple'> 1753281881664 2\n",
      "{'location': 'Pune', 'gender': 'Male', 'company': 'CTS'} <class 'dict'> 1753283928512 3\n",
      "('Amitava', 'Developer') <class 'tuple'> 1753281898176 2\n",
      "{} <class 'dict'> 1753283928448 0\n",
      "() <class 'tuple'> 1753207537728 0\n",
      "{'location': 'Pune', 'gender': 'Male', 'company': 'CTS'} <class 'dict'> 1753283928384 3\n"
     ]
    }
   ],
   "source": [
    "# function with variable number of arguments\n",
    "def funct8(*arg, **kwarg):\n",
    "    print (arg, type(arg), id(arg), len(arg))\n",
    "    print (kwarg, type(kwarg), id(kwarg), len(kwarg))\n",
    "    \n",
    "funct8(\"Amitava\", \"Developer\", location=\"Pune\", gender=\"Male\", company=\"CTS\")\n",
    "funct8(\"Amitava\", \"Developer\")\n",
    "funct8(location=\"Pune\", gender=\"Male\", company=\"CTS\")"
   ]
  },
  {
   "cell_type": "code",
   "execution_count": 22,
   "id": "fc20bde5-1553-46d5-91df-d79fbb36fd14",
   "metadata": {},
   "outputs": [
    {
     "name": "stdout",
     "output_type": "stream",
     "text": [
      "600\n",
      "1000\n",
      "1800\n",
      "<function <lambda> at 0x0000019837DBD700>\n"
     ]
    }
   ],
   "source": [
    "funct9 = lambda num: 2 * num\n",
    "print (funct9(300))\n",
    "print (funct9(500))\n",
    "print (funct9(900))\n",
    "print (funct9)"
   ]
  },
  {
   "cell_type": "code",
   "execution_count": 24,
   "id": "7bbe18e9-ec54-4251-9555-3324ae07c0d8",
   "metadata": {},
   "outputs": [
    {
     "name": "stdout",
     "output_type": "stream",
     "text": [
      "15000\n",
      "30000\n",
      "63000\n",
      "<function <lambda> at 0x0000019837C4E700>\n"
     ]
    }
   ],
   "source": [
    "funct10 = lambda num1, num2: num1 * num2\n",
    "print (funct10(300, 50))\n",
    "print (funct10(500, 60))\n",
    "print (funct10(900, 70))\n",
    "print (funct10)"
   ]
  },
  {
   "cell_type": "code",
   "execution_count": 25,
   "id": "08c5d98b-1de7-4c7b-8f79-1883a5624883",
   "metadata": {},
   "outputs": [
    {
     "name": "stdout",
     "output_type": "stream",
     "text": [
      "1000 Even\n",
      "1005 Odd\n"
     ]
    }
   ],
   "source": [
    "num1 = 1000\n",
    "output = \"Even\" if (num1 % 2 == 0) else \"Odd\"\n",
    "print (num1, output)\n",
    "\n",
    "num1 = 1005\n",
    "output = \"Even\" if (num1 % 2 == 0) else \"Odd\"\n",
    "print (num1, output)"
   ]
  },
  {
   "cell_type": "code",
   "execution_count": null,
   "id": "b9e2c6dd-a21b-40c2-9c04-ac22eda08437",
   "metadata": {},
   "outputs": [],
   "source": [
    "fact = lambda num: 1 if (num <= 1) else num * fact(num - 1)\n",
    "\n",
    "print (fact(5))\n",
    "print (fact)"
   ]
  }
 ],
 "metadata": {
  "kernelspec": {
   "display_name": "Python 3",
   "language": "python",
   "name": "python3"
  },
  "language_info": {
   "codemirror_mode": {
    "name": "ipython",
    "version": 3
   },
   "file_extension": ".py",
   "mimetype": "text/x-python",
   "name": "python",
   "nbconvert_exporter": "python",
   "pygments_lexer": "ipython3",
   "version": "3.8.8"
  }
 },
 "nbformat": 4,
 "nbformat_minor": 5
}
