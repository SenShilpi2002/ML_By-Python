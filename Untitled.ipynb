{
 "cells": [
  {
   "cell_type": "code",
   "execution_count": null,
   "id": "e519dc1a",
   "metadata": {},
   "outputs": [],
   "source": [
    "num1 = int(input(\"Please enter the first number: \"))\n",
    "num2 = int(input(\"Please enter the second number: \"))\n",
    "result = num1 + num2\n",
    "print (\"So the result is\", num1, \"+\", num2, \"=\", result)"
   ]
  },
  {
   "cell_type": "code",
   "execution_count": 2,
   "id": "ede7dd72",
   "metadata": {},
   "outputs": [
    {
     "name": "stdout",
     "output_type": "stream",
     "text": [
      "So the result is 2 + 3 = 5\n",
      "So the result is 2 + 3 = 5\n",
      "So the result is 2 + 3 = 5\n",
      "So the result is 2 + 3 = 5\n",
      "So the result is 2 + 3 = 5\n",
      "So the result is 2 + 3 = 5\n",
      "So the result is 2 + 3 = 5\n",
      "So the result is 2 + 3 = 5\n",
      "So the result is 2 + 3 = 5.000000\n",
      "So the result is 2 + 3 =     5.00\n",
      "So the result is 2 + 3 = 5\n"
     ]
    }
   ],
   "source": [
    "print (\"So the result is\", num1, \"+\", num2, \"=\", result)\n",
    "print (\"So the result is \" + str(num1) + \" + \" + str(num2) + \" = \" + str(result))\n",
    "print (\"So the result is {} + {} = {}\".format(num1, num2, result))  # {} is called statement place holder\n",
    "print (\"So the result is {0} + {1} = {2}\".format(num1, num2, result))  # indexed place holder\n",
    "print (\"So the result is {2} + {1} = {0}\".format(result, num2, num1))  # indexed place holder\n",
    "print (\"So the result is {fnum} + {snum} = {tot}\".format(fnum=num1, snum=num2, tot=result))  # labelled place holder\n",
    "print (\"So the result is {fnum} + {snum} = {tot}\".format(tot=result, fnum=num1, snum=num2))  # labelled place holder\n",
    "print (\"So the result is %d + %d = %d\"%(num1, num2, result))\n",
    "print (\"So the result is %d + %d = %f\"%(num1, num2, result))\n",
    "print (\"So the result is %d + %d = %8.2f\"%(num1, num2, result))\n",
    "print (f\"So the result is {num1} + {num2} = {result}\")"
   ]
  },
  {
   "cell_type": "code",
   "execution_count": 3,
   "id": "1c69333d",
   "metadata": {},
   "outputs": [
    {
     "name": "stdout",
     "output_type": "stream",
     "text": [
      "enter the first number: 12\n",
      "enter the second number: 20\n",
      "So the result is 12 / 20 = 0.6\n",
      "End of the program...\n"
     ]
    }
   ],
   "source": [
    "try:\n",
    "    num1=int(input('enter the first number: '))\n",
    "    num2=int(input('enter the second number: '))\n",
    "    result = num1 / num2\n",
    "    print (\"So the result is {num1} / {num2} = {result}\")\n",
    "except ZeroDivisionError as zde:\n",
    "    print (\"ZeroDivisionError: Division by ZERO is ILLEGAL...\")\n",
    "    print (\"ZeroDivisionError: Error type is:\", type(zde))\n",
    "    print (\"ZeroDivisionError: Error message is:\", zde)\n",
    "print (\"End of the program...\")"
   ]
  },
  {
   "cell_type": "code",
   "execution_count": null,
   "id": "291d9a2d",
   "metadata": {},
   "outputs": [],
   "source": [
    "try:\n",
    "    num1=int(input('enter the first number: '))\n",
    "    num2=int(input('enter the second number: '))\n",
    "    result = num1 / num2\n",
    "    print (\"So the result is {num1} / {num2} = {result}\")\n",
    "except ZeroDivisionError as zde:\n",
    "    print (\"ZeroDivisionError: Division by ZERO is ILLEGAL...\")\n",
    "    print (\"ZeroDivisionError: Error type is:\", type(zde))\n",
    "    print (\"ZeroDivisionError: Error message is:\", zde)\n",
    "print (\"End of the program...\")"
   ]
  },
  {
   "cell_type": "code",
   "execution_count": null,
   "id": "ba5542d5",
   "metadata": {},
   "outputs": [],
   "source": [
    "try:\n",
    "    num1 = int(input(\"Please enter the first number: \"))\n",
    "    num2 = int(input(\"Please enter the second number: \"))\n",
    "    result = num1 / num2\n",
    "    print (f\"So the result is {num1} / {num2} = {result}\")\n",
    "except ZeroDivisionError as zde:\n",
    "    print (\"ZeroDivisionError: Division by ZERO is ILLEGAL...\")\n",
    "    print (\"ZeroDivisionError: Error type is:\", type(zde))\n",
    "    print (\"ZeroDivisionError: Error message is:\", zde)\n",
    "except ValueError as ve:\n",
    "    print (\"ValueError: Please provide numeric values...\")\n",
    "    print (\"ValueError: Error type is:\", type(ve))\n",
    "    print (\"ValueError: Error message is:\", ve)\n",
    "print (\"End of the program...\")"
   ]
  },
  {
   "cell_type": "code",
   "execution_count": null,
   "id": "cd725976",
   "metadata": {},
   "outputs": [],
   "source": [
    "try:\n",
    "    num1 = int(input(\"Please enter the first number: \"))\n",
    "    num2 = int(input(\"Please enter the second number: \"))\n",
    "    result = num1 / num2\n",
    "    print (f\"So the result is {num1} / {num2} = {result}\")\n",
    "except ValueError as ve:\n",
    "    print (\"ValueError: Please provide numeric values...\")\n",
    "    print (\"ValueError: Error type is:\", type(ve))\n",
    "    print (\"ValueError: Error message is:\", ve)\n",
    "except ZeroDivisionError as zde:\n",
    "    print (\"ZeroDivisionError: Division by ZERO is ILLEGAL...\")\n",
    "    print (\"ZeroDivisionError: Error type is:\", type(zde))\n",
    "    print (\"ZeroDivisionError: Error message is:\", zde)\n",
    "\n",
    "print (\"End of the program...\")\n"
   ]
  },
  {
   "cell_type": "code",
   "execution_count": null,
   "id": "f46be178",
   "metadata": {},
   "outputs": [],
   "source": [
    "try:\n",
    "    num1 = int(input(\"Please enter the first number: \"))\n",
    "    num2 = int(input(\"Please enter the second number: \"))\n",
    "    result = num1 / num2\n",
    "    print (f\"So the result is {num1} / {num2} = {result}\")\n",
    "except ValueError as ve:\n",
    "    print (\"ValueError: Please provide numeric values...\")\n",
    "    print (\"ValueError: Error type is:\", type(ve))\n",
    "    print (\"ValueError: Error message is:\", ve)\n",
    "# except ZeroDivisionError as zde:\n",
    "#     print (\"ZeroDivisionError: Division by ZERO is ILLEGAL...\")\n",
    "#     print (\"ZeroDivisionError: Error type is:\", type(zde))\n",
    "#     print (\"ZeroDivisionError: Error message is:\", zde)\n",
    "except Exception as ex:\n",
    "    print (\"Exception: Any other exception has occurred...\")\n",
    "    print (\"Exception: Error type is:\", type(ex))\n",
    "    print (\"Exception: Error message is:\", ex)\n",
    "\n",
    "print (\"End of the program...\")"
   ]
  },
  {
   "cell_type": "code",
   "execution_count": null,
   "id": "dc5282b3",
   "metadata": {},
   "outputs": [],
   "source": []
  },
  {
   "cell_type": "code",
   "execution_count": 1,
   "id": "81e65680",
   "metadata": {},
   "outputs": [
    {
     "name": "stdout",
     "output_type": "stream",
     "text": [
      "Please enter one integer number: 12\n",
      "12 is NOT a PRIME Number...\n",
      "End of the program...\n"
     ]
    }
   ],
   "source": [
    "# while with else block\n",
    "num = int(input(\"Please enter one integer number: \"))\n",
    "i = 2\n",
    "while (i <= int(num ** 0.5)):\n",
    "    if (num % i == 0):\n",
    "        print (f\"{num} is NOT a PRIME Number...\")\n",
    "        break\n",
    "    i = i + 1\n",
    "else:\n",
    "    print (f\"{num} is a PRIME Number...\")\n",
    "print (\"End of the program...\")\n"
   ]
  },
  {
   "cell_type": "code",
   "execution_count": null,
   "id": "2a20e883",
   "metadata": {},
   "outputs": [],
   "source": [
    "# visit this site for more details: https://docs.python.org/3.11/library/exceptions.html\n",
    "try:\n",
    "    num1 = int(input(\"Please enter the first number: \"))\n",
    "    num2 = int(input(\"Please enter the second number: \"))\n",
    "    result = num1 / num2\n",
    "    print (f\"So the result is {num1} / {num2} = {result}\")\n",
    "except ValueError as ve:\n",
    "    print (\"ValueError: Please provide numeric values...\")\n",
    "    print (\"ValueError: Error type is:\", type(ve))\n",
    "    print (\"ValueError: Error message is:\", ve)\n",
    "except ZeroDivisionError as zde:\n",
    "    print (\"ZeroDivisionError: Division by ZERO is ILLEGAL...\")\n",
    "    print (\"ZeroDivisionError: Error type is:\", type(zde))\n",
    "    print (\"ZeroDivisionError: Error message is:\", zde)\n",
    "except Exception as ex:\n",
    "    print (\"Exception: Any other exception has occurred...\")\n",
    "    print (\"Exception: Error type is:\", type(ex))\n",
    "    print (\"Exception: Error message is:\", ex)\n",
    "else:\n",
    "    print (\"Else: Else block is executing...\")\n",
    "    print (\"Else: Had a smooth executing...\")\n",
    "finally:\n",
    "    print (\"Finally: Finally block is executing...\")\n",
    "    print (\"Finally: It executes always...\")\n",
    "\n",
    "print (\"End of the program...\")"
   ]
  },
  {
   "cell_type": "code",
   "execution_count": null,
   "id": "39caeaeb",
   "metadata": {},
   "outputs": [],
   "source": [
    "help(print)"
   ]
  },
  {
   "cell_type": "code",
   "execution_count": null,
   "id": "f37b02e2",
   "metadata": {},
   "outputs": [],
   "source": [
    "try:\n",
    "    num1 = int(input(\"Please enter the first number: \"))\n",
    "    num2 = int(input(\"Please enter the second number: \"))\n",
    "    if (num1 > 100 or num2 > 100):\n",
    "        raise NameError(\"Above100\")\n",
    "    if (num1 < -100 or num2 < -100):\n",
    "        raise NameError(\"Below-100\")\n",
    "    result = num1 / num2\n",
    "    print (f\"So the result is {num1} / {num2} = {result}\")\n",
    "except ValueError as ve:\n",
    "    print (\"ValueError: Please provide numeric values...\")\n",
    "    print (\"ValueError: Error type is:\", type(ve))\n",
    "    print (\"ValueError: Error message is:\", ve)\n",
    "except ZeroDivisionError as zde:\n",
    "    print (\"ZeroDivisionError: Division by ZERO is ILLEGAL...\")\n",
    "    print (\"ZeroDivisionError: Error type is:\", type(zde))\n",
    "    print (\"ZeroDivisionError: Error message is:\", zde)\n",
    "except NameError as ne:\n",
    "    print (\"NameError: Input data out of range...\")\n",
    "    if (\"Above100\" == str(ne)): print (\"NameError: Input data is above 100 limit value...\")\n",
    "    if (\"Below-100\" == str(ne)): print (\"NameError: Input data is below -100 limit value...\")\n",
    "except Exception as ex:\n",
    "    print (\"Exception: Any other exception has occurred...\")\n",
    "    print (\"Exception: Error type is:\", type(ex))\n",
    "    print (\"Exception: Error message is:\", ex)\n",
    "else:\n",
    "    print (\"Else: Else block is executing...\")\n",
    "    print (\"Else: Had a smooth executing...\")\n",
    "finally:\n",
    "    print (\"Finally: Finally block is executing...\")\n",
    "    print (\"Finally: It executes always...\")\n",
    "\n",
    "print (\"End of the program...\")"
   ]
  },
  {
   "cell_type": "code",
   "execution_count": null,
   "id": "e1d9ff60",
   "metadata": {},
   "outputs": [],
   "source": [
    "while(true):\n",
    "        try:\n",
    "        num1 = int(input(\"Please enter the first number: \"))\n",
    "        num2 = int(input(\"Please enter the second number: \"))\n",
    "        if (num1 > 100 or num2 > 100):\n",
    "            raise NameError(\"Above100\")\n",
    "        if (num1 < -100 or num2 < -100):\n",
    "            raise NameError(\"Below-100\")\n",
    "        result = num1 / num2\n",
    "        print (f\"So the result is {num1} / {num2} = {result}\")\n",
    "    except ValueError as ve:\n",
    "        print (\"ValueError: Please provide numeric values...\")\n",
    "        print (\"ValueError: Error type is:\", type(ve))\n",
    "        print (\"ValueError: Error message is:\", ve)\n",
    "    except ZeroDivisionError as zde:\n",
    "        print (\"ZeroDivisionError: Division by ZERO is ILLEGAL...\")\n",
    "        print (\"ZeroDivisionError: Error type is:\", type(zde))\n",
    "        print (\"ZeroDivisionError: Error message is:\", zde)\n",
    "    except NameError as ne:\n",
    "        print (\"NameError: Input data out of range...\")\n",
    "        if (\"Above100\" == str(ne)): print (\"NameError: Input data is above 100 limit value...\")\n",
    "        if (\"Below-100\" == str(ne)): print (\"NameError: Input data is below -100 limit value...\")\n",
    "    except Exception as ex:\n",
    "        print (\"Exception: Any other exception has occurred...\")\n",
    "        print (\"Exception: Error type is:\", type(ex))\n",
    "        print (\"Exception: Error message is:\", ex)\n",
    "    else:\n",
    "        print (\"Else: Else block is executing...\")\n",
    "        print (\"Else: Had a smooth executing...\")\n",
    "    finally:\n",
    "        print (\"Finally: Finally block is executing...\")\n",
    "        print (\"Finally: It executes always...\")\n",
    "\n",
    "    print (\"End of the program...\")"
   ]
  },
  {
   "cell_type": "code",
   "execution_count": null,
   "id": "362808ac",
   "metadata": {},
   "outputs": [],
   "source": []
  },
  {
   "cell_type": "code",
   "execution_count": null,
   "id": "d483c08d",
   "metadata": {},
   "outputs": [],
   "source": []
  },
  {
   "cell_type": "code",
   "execution_count": null,
   "id": "008e4c29",
   "metadata": {},
   "outputs": [],
   "source": []
  }
 ],
 "metadata": {
  "kernelspec": {
   "display_name": "Python 3 (ipykernel)",
   "language": "python",
   "name": "python3"
  },
  "language_info": {
   "codemirror_mode": {
    "name": "ipython",
    "version": 3
   },
   "file_extension": ".py",
   "mimetype": "text/x-python",
   "name": "python",
   "nbconvert_exporter": "python",
   "pygments_lexer": "ipython3",
   "version": "3.11.0"
  }
 },
 "nbformat": 4,
 "nbformat_minor": 5
}
